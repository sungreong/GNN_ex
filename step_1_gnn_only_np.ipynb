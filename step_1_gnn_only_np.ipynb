{
 "metadata": {
  "language_info": {
   "codemirror_mode": {
    "name": "ipython",
    "version": 3
   },
   "file_extension": ".py",
   "mimetype": "text/x-python",
   "name": "python",
   "nbconvert_exporter": "python",
   "pygments_lexer": "ipython3",
   "version": "3.7.10"
  },
  "orig_nbformat": 4,
  "kernelspec": {
   "name": "python3",
   "display_name": "Python 3.7.10 64-bit ('rl': conda)"
  },
  "interpreter": {
   "hash": "4a34b7b2474f08d48dccc8848beb6384d8bb23eb99f2769807b9556af4c52f27"
  }
 },
 "nbformat": 4,
 "nbformat_minor": 2,
 "cells": [
  {
   "cell_type": "code",
   "execution_count": 1,
   "source": [
    "\n",
    "import numpy as np\n",
    "from scipy.linalg import sqrtm \n",
    "from scipy.special import softmax\n",
    "import networkx as nx\n",
    "from networkx.algorithms.community.modularity_max import greedy_modularity_communities\n",
    "import matplotlib.pyplot as plt\n",
    "from matplotlib import animation\n",
    "%matplotlib inline\n",
    "from IPython.display import HTML"
   ],
   "outputs": [],
   "metadata": {}
  },
  {
   "cell_type": "markdown",
   "source": [
    "[Paper : SEMI-SUPERVISED CLASSIFICATION WITH\n",
    "GRAPH CONVOLUTIONAL NETWORKS](https://www.youtube.com/redirect?event=video_description&redir_token=QUFFLUhqbGZrOUVNdWtpTUZvZlA1VmRObnNCbVlDa1RpZ3xBQ3Jtc0trUEFHTEYtZHc0U2dGNE9YQ1MtaDVYeEx5cm5XUjBQaTNPRWhRTG94Nld6X0VZUnJ3a3lidGZMNmo4d1MtNjdSTmtENVZmR004amNYOTNUQl9qOWtRa1VYanNYbUtBYjd0ai12UW1aV016cndCcFdIMA&q=https%3A%2F%2Farxiv.org%2Fpdf%2F1609.02907.pdf)\n",
    "\n",
    "[youtube](https://www.youtube.com/watch?v=8qTnNXdkF1Q&ab_channel=WelcomeAIOverlords)"
   ],
   "metadata": {}
  },
  {
   "cell_type": "code",
   "execution_count": 2,
   "source": [
    "A = np.array(\n",
    "    [[0, 1, 0, 0, 0], [1, 0, 1, 0, 0], [0, 1, 0, 1, 1], [0, 0, 1, 0, 0], [0, 0, 1, 0, 0]]\n",
    ")\n",
    "A # adjacency matrix"
   ],
   "outputs": [
    {
     "output_type": "execute_result",
     "data": {
      "text/plain": [
       "array([[0, 1, 0, 0, 0],\n",
       "       [1, 0, 1, 0, 0],\n",
       "       [0, 1, 0, 1, 1],\n",
       "       [0, 0, 1, 0, 0],\n",
       "       [0, 0, 1, 0, 0]])"
      ]
     },
     "metadata": {},
     "execution_count": 2
    }
   ],
   "metadata": {}
  },
  {
   "cell_type": "code",
   "execution_count": 3,
   "source": [
    "feats = np.arange(A.shape[0]).reshape((-1,1))+1\n",
    "feats # node feature "
   ],
   "outputs": [
    {
     "output_type": "execute_result",
     "data": {
      "text/plain": [
       "array([[1],\n",
       "       [2],\n",
       "       [3],\n",
       "       [4],\n",
       "       [5]])"
      ]
     },
     "metadata": {},
     "execution_count": 3
    }
   ],
   "metadata": {}
  },
  {
   "cell_type": "code",
   "execution_count": 4,
   "source": [
    "H = A @ feats\n",
    "H"
   ],
   "outputs": [
    {
     "output_type": "execute_result",
     "data": {
      "text/plain": [
       "array([[ 2],\n",
       "       [ 4],\n",
       "       [11],\n",
       "       [ 3],\n",
       "       [ 3]])"
      ]
     },
     "metadata": {},
     "execution_count": 4
    }
   ],
   "metadata": {}
  },
  {
   "cell_type": "code",
   "execution_count": 24,
   "source": [
    " A.sum(axis=0) ## node feature (degree value)"
   ],
   "outputs": [
    {
     "output_type": "execute_result",
     "data": {
      "text/plain": [
       "array([1, 2, 3, 1, 1])"
      ]
     },
     "metadata": {},
     "execution_count": 24
    }
   ],
   "metadata": {}
  },
  {
   "cell_type": "markdown",
   "source": [
    "Scale neighborhood sum by neighborhood size (i.e. average values)"
   ],
   "metadata": {}
  },
  {
   "cell_type": "code",
   "execution_count": 5,
   "source": [
    "\n",
    "D = np.zeros(A.shape)\n",
    "np.fill_diagonal(D, A.sum(axis=0))\n",
    "D ## degree matrix "
   ],
   "outputs": [
    {
     "output_type": "execute_result",
     "data": {
      "text/plain": [
       "array([[1., 0., 0., 0., 0.],\n",
       "       [0., 2., 0., 0., 0.],\n",
       "       [0., 0., 3., 0., 0.],\n",
       "       [0., 0., 0., 1., 0.],\n",
       "       [0., 0., 0., 0., 1.]])"
      ]
     },
     "metadata": {},
     "execution_count": 5
    }
   ],
   "metadata": {}
  },
  {
   "cell_type": "code",
   "execution_count": 6,
   "source": [
    "D_inv = np.linalg.inv(D)\n",
    "D_inv"
   ],
   "outputs": [
    {
     "output_type": "execute_result",
     "data": {
      "text/plain": [
       "array([[1.        , 0.        , 0.        , 0.        , 0.        ],\n",
       "       [0.        , 0.5       , 0.        , 0.        , 0.        ],\n",
       "       [0.        , 0.        , 0.33333333, 0.        , 0.        ],\n",
       "       [0.        , 0.        , 0.        , 1.        , 0.        ],\n",
       "       [0.        , 0.        , 0.        , 0.        , 1.        ]])"
      ]
     },
     "metadata": {},
     "execution_count": 6
    }
   ],
   "metadata": {}
  },
  {
   "cell_type": "code",
   "execution_count": 7,
   "source": [
    "\n",
    "D_inv @ A"
   ],
   "outputs": [
    {
     "output_type": "execute_result",
     "data": {
      "text/plain": [
       "array([[0.        , 1.        , 0.        , 0.        , 0.        ],\n",
       "       [0.5       , 0.        , 0.5       , 0.        , 0.        ],\n",
       "       [0.        , 0.33333333, 0.        , 0.33333333, 0.33333333],\n",
       "       [0.        , 0.        , 1.        , 0.        , 0.        ],\n",
       "       [0.        , 0.        , 1.        , 0.        , 0.        ]])"
      ]
     },
     "metadata": {},
     "execution_count": 7
    }
   ],
   "metadata": {}
  },
  {
   "cell_type": "code",
   "execution_count": 8,
   "source": [
    "H_avg = D_inv @ A @ feats\n",
    "H_avg"
   ],
   "outputs": [
    {
     "output_type": "execute_result",
     "data": {
      "text/plain": [
       "array([[2.        ],\n",
       "       [2.        ],\n",
       "       [3.66666667],\n",
       "       [3.        ],\n",
       "       [3.        ]])"
      ]
     },
     "metadata": {},
     "execution_count": 8
    }
   ],
   "metadata": {}
  },
  {
   "cell_type": "markdown",
   "source": [
    "Normalized Adjacency Matrix\n",
    "Ultimately want to define and build:\n",
    "\n",
    "$$ \\hat{A} = \\tilde{D}^{-\\frac{1}{2}} \\tilde{A} \\tilde{D}^{-\\frac{1}{2}} $$\n",
    "First, create $\\tilde{A}$:$$ \\tilde{A} = A + I $$"
   ],
   "metadata": {}
  },
  {
   "cell_type": "code",
   "execution_count": 29,
   "source": [
    "g = nx.from_numpy_array(A)\n",
    "A_mod = A + np.eye(g.number_of_nodes()) # A + I "
   ],
   "outputs": [],
   "metadata": {}
  },
  {
   "cell_type": "code",
   "execution_count": 10,
   "source": [
    "A_mod"
   ],
   "outputs": [
    {
     "output_type": "execute_result",
     "data": {
      "text/plain": [
       "array([[1., 1., 0., 0., 0.],\n",
       "       [1., 1., 1., 0., 0.],\n",
       "       [0., 1., 1., 1., 1.],\n",
       "       [0., 0., 1., 1., 0.],\n",
       "       [0., 0., 1., 0., 1.]])"
      ]
     },
     "metadata": {},
     "execution_count": 10
    }
   ],
   "metadata": {}
  },
  {
   "cell_type": "markdown",
   "source": [
    "$$ (D)_{ij} = \\delta_{i,j} \\sum_k A_{i,k} $$"
   ],
   "metadata": {}
  },
  {
   "cell_type": "code",
   "execution_count": 27,
   "source": [
    "g.number_of_nodes()\n",
    "# np.eye(g.number_of_nodes())"
   ],
   "outputs": [
    {
     "output_type": "execute_result",
     "data": {
      "text/plain": [
       "5"
      ]
     },
     "metadata": {},
     "execution_count": 27
    }
   ],
   "metadata": {}
  },
  {
   "cell_type": "code",
   "execution_count": 11,
   "source": [
    "# D for A_mod:\n",
    "D_mod = np.zeros_like(A_mod)\n",
    "np.fill_diagonal(D_mod, A_mod.sum(axis=1).flatten())\n",
    "\n",
    "# Inverse square root of D:\n",
    "D_mod_invroot = np.linalg.inv(sqrtm(D_mod))"
   ],
   "outputs": [],
   "metadata": {}
  },
  {
   "cell_type": "code",
   "execution_count": 12,
   "source": [
    "D_mod"
   ],
   "outputs": [
    {
     "output_type": "execute_result",
     "data": {
      "text/plain": [
       "array([[2., 0., 0., 0., 0.],\n",
       "       [0., 3., 0., 0., 0.],\n",
       "       [0., 0., 4., 0., 0.],\n",
       "       [0., 0., 0., 2., 0.],\n",
       "       [0., 0., 0., 0., 2.]])"
      ]
     },
     "metadata": {},
     "execution_count": 12
    }
   ],
   "metadata": {}
  },
  {
   "cell_type": "code",
   "execution_count": 13,
   "source": [
    "\n",
    "D_mod_invroot"
   ],
   "outputs": [
    {
     "output_type": "execute_result",
     "data": {
      "text/plain": [
       "array([[0.70710678, 0.        , 0.        , 0.        , 0.        ],\n",
       "       [0.        , 0.57735027, 0.        , 0.        , 0.        ],\n",
       "       [0.        , 0.        , 0.5       , 0.        , 0.        ],\n",
       "       [0.        , 0.        , 0.        , 0.70710678, 0.        ],\n",
       "       [0.        , 0.        , 0.        , 0.        , 0.70710678]])"
      ]
     },
     "metadata": {},
     "execution_count": 13
    }
   ],
   "metadata": {}
  },
  {
   "cell_type": "code",
   "execution_count": 14,
   "source": [
    "node_labels = {i: i+1 for i in range(g.number_of_nodes())}\n",
    "pos = nx.planar_layout(g)"
   ],
   "outputs": [],
   "metadata": {}
  },
  {
   "cell_type": "code",
   "execution_count": null,
   "source": [],
   "outputs": [],
   "metadata": {}
  },
  {
   "cell_type": "code",
   "execution_count": 15,
   "source": [
    "fig, ax = plt.subplots(figsize=(10,10))\n",
    "nx.draw(\n",
    "    g, pos, with_labels=True, \n",
    "    labels=node_labels, \n",
    "    node_color='#83C167', \n",
    "    ax=ax, edge_color='gray', node_size=1500, font_size=30, font_family='serif'\n",
    ")\n",
    "plt.savefig('simple_graph.png', bbox_inches='tight', transparent=True)"
   ],
   "outputs": [
    {
     "output_type": "display_data",
     "data": {
      "text/plain": [
       "<Figure size 720x720 with 1 Axes>"
      ],
      "image/png": "[encoded data removed]",
      "image/svg+xml": "<?xml version=\"1.0\" encoding=\"utf-8\" standalone=\"no\"?>\n<!DOCTYPE svg PUBLIC \"-//W3C//DTD SVG 1.1//EN\"\n  \"http://www.w3.org/Graphics/SVG/1.1/DTD/svg11.dtd\">\n<svg height=\"558pt\" version=\"1.1\" viewBox=\"0 0 572.4 558\" width=\"572.4pt\" xmlns=\"http://www.w3.org/2000/svg\" xmlns:xlink=\"http://www.w3.org/1999/xlink\">\n <metadata>\n  <rdf:RDF xmlns:cc=\"http://creativecommons.org/ns#\" xmlns:dc=\"http://purl.org/dc/elements/1.1/\" xmlns:rdf=\"http://www.w3.org/1999/02/22-rdf-syntax-ns#\">\n   <cc:Work>\n    <dc:type rdf:resource=\"http://purl.org/dc/dcmitype/StillImage\"/>\n    <dc:date>2021-06-15T01:43:14.819818</dc:date>\n    <dc:format>image/svg+xml</dc:format>\n    <dc:creator>\n     <cc:Agent>\n      <dc:title>Matplotlib v3.4.0, https://matplotlib.org/</dc:title>\n     </cc:Agent>\n    </dc:creator>\n   </cc:Work>\n  </rdf:RDF>\n </metadata>\n <defs>\n  <style type=\"text/css\">*{stroke-linecap:butt;stroke-linejoin:round;}</style>\n </defs>\n <g id=\"figure_1\">\n  <g id=\"patch_1\">\n   <path d=\"M 0 558 \nL 572.4 558 \nL 572.4 0 \nL 0 0 \nz\n\" style=\"fill:#ffffff;\"/>\n  </g>\n  <g id=\"axes_1\">\n   <g id=\"LineCollection_1\">\n    <path clip-path=\"url(#pcd8f0098a4)\" d=\"M 32.563636 526.090909 \nL 539.836364 526.090909 \n\" style=\"fill:none;stroke:#808080;\"/>\n    <path clip-path=\"url(#pcd8f0098a4)\" d=\"M 539.836364 526.090909 \nL 370.745455 196.636364 \n\" style=\"fill:none;stroke:#808080;\"/>\n    <path clip-path=\"url(#pcd8f0098a4)\" d=\"M 370.745455 196.636364 \nL 117.109091 361.363636 \n\" style=\"fill:none;stroke:#808080;\"/>\n    <path clip-path=\"url(#pcd8f0098a4)\" d=\"M 370.745455 196.636364 \nL 286.2 31.909091 \n\" style=\"fill:none;stroke:#808080;\"/>\n   </g>\n   <g id=\"PathCollection_1\">\n    <defs>\n     <path d=\"M 0 19.364917 \nC 5.135636 19.364917 10.061621 17.324507 13.693064 13.693064 \nC 17.324507 10.061621 19.364917 5.135636 19.364917 0 \nC 19.364917 -5.135636 17.324507 -10.061621 13.693064 -13.693064 \nC 10.061621 -17.324507 5.135636 -19.364917 0 -19.364917 \nC -5.135636 -19.364917 -10.061621 -17.324507 -13.693064 -13.693064 \nC -17.324507 -10.061621 -19.364917 -5.135636 -19.364917 0 \nC -19.364917 5.135636 -17.324507 10.061621 -13.693064 13.693064 \nC -10.061621 17.324507 -5.135636 19.364917 0 19.364917 \nz\n\" id=\"mb5e226d623\" style=\"stroke:#83c167;\"/>\n    </defs>\n    <g clip-path=\"url(#pcd8f0098a4)\">\n     <use style=\"fill:#83c167;stroke:#83c167;\" x=\"32.563636\" xlink:href=\"#mb5e226d623\" y=\"526.090909\"/>\n     <use style=\"fill:#83c167;stroke:#83c167;\" x=\"539.836364\" xlink:href=\"#mb5e226d623\" y=\"526.090909\"/>\n     <use style=\"fill:#83c167;stroke:#83c167;\" x=\"370.745455\" xlink:href=\"#mb5e226d623\" y=\"196.636364\"/>\n     <use style=\"fill:#83c167;stroke:#83c167;\" x=\"117.109091\" xlink:href=\"#mb5e226d623\" y=\"361.363636\"/>\n     <use style=\"fill:#83c167;stroke:#83c167;\" x=\"286.2\" xlink:href=\"#mb5e226d623\" y=\"31.909091\"/>\n    </g>\n   </g>\n   <g id=\"text_1\">\n    <g clip-path=\"url(#pcd8f0098a4)\">\n     <!-- 1 -->\n     <g transform=\"translate(23.019886 534.369034)scale(0.3 -0.3)\">\n      <defs>\n       <path d=\"M 909 0 \nL 909 331 \nL 1722 331 \nL 1722 4213 \nL 781 3603 \nL 781 4013 \nL 1919 4750 \nL 2350 4750 \nL 2350 331 \nL 3163 331 \nL 3163 0 \nL 909 0 \nz\n\" id=\"DejaVuSerif-31\" transform=\"scale(0.015625)\"/>\n      </defs>\n      <use xlink:href=\"#DejaVuSerif-31\"/>\n     </g>\n    </g>\n   </g>\n   <g id=\"text_2\">\n    <g clip-path=\"url(#pcd8f0098a4)\">\n     <!-- 2 -->\n     <g transform=\"translate(530.292614 534.369034)scale(0.3 -0.3)\">\n      <defs>\n       <path d=\"M 819 3553 \nL 469 3553 \nL 469 4384 \nQ 803 4563 1142 4656 \nQ 1481 4750 1806 4750 \nQ 2534 4750 2956 4397 \nQ 3378 4044 3378 3438 \nQ 3378 2753 2422 1800 \nQ 2347 1728 2309 1691 \nL 1131 513 \nL 3078 513 \nL 3078 1088 \nL 3444 1088 \nL 3444 0 \nL 434 0 \nL 434 341 \nL 1850 1753 \nQ 2319 2222 2519 2614 \nQ 2719 3006 2719 3438 \nQ 2719 3909 2473 4175 \nQ 2228 4441 1797 4441 \nQ 1350 4441 1106 4219 \nQ 863 3997 819 3553 \nz\n\" id=\"DejaVuSerif-32\" transform=\"scale(0.015625)\"/>\n      </defs>\n      <use xlink:href=\"#DejaVuSerif-32\"/>\n     </g>\n    </g>\n   </g>\n   <g id=\"text_3\">\n    <g clip-path=\"url(#pcd8f0098a4)\">\n     <!-- 3 -->\n     <g transform=\"translate(361.201705 204.914489)scale(0.3 -0.3)\">\n      <defs>\n       <path d=\"M 622 4469 \nQ 988 4606 1323 4678 \nQ 1659 4750 1953 4750 \nQ 2638 4750 3022 4454 \nQ 3406 4159 3406 3634 \nQ 3406 3213 3140 2930 \nQ 2875 2647 2388 2547 \nQ 2963 2466 3280 2130 \nQ 3597 1794 3597 1259 \nQ 3597 606 3158 257 \nQ 2719 -91 1894 -91 \nQ 1528 -91 1179 -12 \nQ 831 66 488 225 \nL 488 1131 \nL 838 1131 \nQ 869 681 1141 450 \nQ 1413 219 1906 219 \nQ 2384 219 2661 495 \nQ 2938 772 2938 1253 \nQ 2938 1803 2653 2086 \nQ 2369 2369 1819 2369 \nL 1522 2369 \nL 1522 2688 \nL 1678 2688 \nQ 2225 2688 2498 2914 \nQ 2772 3141 2772 3597 \nQ 2772 4006 2547 4223 \nQ 2322 4441 1900 4441 \nQ 1478 4441 1245 4241 \nQ 1013 4041 972 3647 \nL 622 3647 \nL 622 4469 \nz\n\" id=\"DejaVuSerif-33\" transform=\"scale(0.015625)\"/>\n      </defs>\n      <use xlink:href=\"#DejaVuSerif-33\"/>\n     </g>\n    </g>\n   </g>\n   <g id=\"text_4\">\n    <g clip-path=\"url(#pcd8f0098a4)\">\n     <!-- 4 -->\n     <g transform=\"translate(107.565341 369.641761)scale(0.3 -0.3)\">\n      <defs>\n       <path d=\"M 2234 1581 \nL 2234 4063 \nL 641 1581 \nL 2234 1581 \nz\nM 3609 0 \nL 1484 0 \nL 1484 331 \nL 2234 331 \nL 2234 1247 \nL 197 1247 \nL 197 1588 \nL 2241 4750 \nL 2859 4750 \nL 2859 1581 \nL 3750 1581 \nL 3750 1247 \nL 2859 1247 \nL 2859 331 \nL 3609 331 \nL 3609 0 \nz\n\" id=\"DejaVuSerif-34\" transform=\"scale(0.015625)\"/>\n      </defs>\n      <use xlink:href=\"#DejaVuSerif-34\"/>\n     </g>\n    </g>\n   </g>\n   <g id=\"text_5\">\n    <g clip-path=\"url(#pcd8f0098a4)\">\n     <!-- 5 -->\n     <g transform=\"translate(276.65625 40.187216)scale(0.3 -0.3)\">\n      <defs>\n       <path d=\"M 3219 4666 \nL 3219 4153 \nL 1081 4153 \nL 1081 2816 \nQ 1244 2928 1461 2984 \nQ 1678 3041 1947 3041 \nQ 2703 3041 3140 2622 \nQ 3578 2203 3578 1478 \nQ 3578 738 3136 323 \nQ 2694 -91 1894 -91 \nQ 1572 -91 1234 -12 \nQ 897 66 544 225 \nL 544 1131 \nL 897 1131 \nQ 925 688 1179 453 \nQ 1434 219 1894 219 \nQ 2388 219 2653 544 \nQ 2919 869 2919 1478 \nQ 2919 2084 2655 2407 \nQ 2391 2731 1894 2731 \nQ 1613 2731 1398 2631 \nQ 1184 2531 1019 2322 \nL 750 2322 \nL 750 4666 \nL 3219 4666 \nz\n\" id=\"DejaVuSerif-35\" transform=\"scale(0.015625)\"/>\n      </defs>\n      <use xlink:href=\"#DejaVuSerif-35\"/>\n     </g>\n    </g>\n   </g>\n  </g>\n </g>\n <defs>\n  <clipPath id=\"pcd8f0098a4\">\n   <rect height=\"543.6\" width=\"558\" x=\"7.2\" y=\"7.2\"/>\n  </clipPath>\n </defs>\n</svg>\n"
     },
     "metadata": {}
    }
   ],
   "metadata": {}
  },
  {
   "cell_type": "markdown",
   "source": [
    "\n",
    "Create $\\hat{A}$:\n",
    "\n",
    "$$ \\hat{A} = \\tilde{D}^{-\\frac{1}{2}} \\tilde{A} \\tilde{D}^{-\\frac{1}{2}} $$$$ (\\hat{A})_{i,j} = \\frac{\\tilde{A}_{i,j}}{\\sqrt{\\tilde{d_i} \\tilde{d_j}}} $$"
   ],
   "metadata": {}
  },
  {
   "cell_type": "code",
   "execution_count": 16,
   "source": [
    "pos"
   ],
   "outputs": [
    {
     "output_type": "execute_result",
     "data": {
      "text/plain": [
       "{0: array([-0.875, -0.375]),\n",
       " 1: array([ 1.   , -0.375]),\n",
       " 2: array([0.375, 0.25 ]),\n",
       " 3: array([-0.5625, -0.0625]),\n",
       " 4: array([0.0625, 0.5625])}"
      ]
     },
     "metadata": {},
     "execution_count": 16
    }
   ],
   "metadata": {}
  },
  {
   "cell_type": "code",
   "execution_count": 17,
   "source": [
    "\n",
    "A_hat = D_mod_invroot @ A_mod @ D_mod_invroot"
   ],
   "outputs": [],
   "metadata": {}
  },
  {
   "cell_type": "code",
   "execution_count": 18,
   "source": [
    "H = np.zeros((g.number_of_nodes(), 1))\n",
    "H[0,0] = 1 # the \"water drop\"\n",
    "iters = 10\n",
    "results = [H.flatten()]\n",
    "for i in range(iters):\n",
    "    H = A_hat @ H\n",
    "    results.append(H.flatten())"
   ],
   "outputs": [],
   "metadata": {}
  },
  {
   "cell_type": "code",
   "execution_count": 19,
   "source": [
    "\n",
    "print(f\"Initial signal input: {results[0]}\")\n",
    "print(f\"Final signal output after running {iters} steps of message-passing:  {results[-1]}\")"
   ],
   "outputs": [
    {
     "output_type": "stream",
     "name": "stdout",
     "text": [
      "Initial signal input: [1. 0. 0. 0. 0.]\n",
      "Final signal output after running 10 steps of message-passing:  [0.18381719 0.20791335 0.20436693 0.13626176 0.13626176]\n"
     ]
    }
   ],
   "metadata": {}
  },
  {
   "cell_type": "code",
   "execution_count": 20,
   "source": [
    "fig, ax = plt.subplots(figsize=(10, 10))\n",
    "\n",
    "kwargs = {'cmap': 'hot', 'node_size': 1500, 'edge_color': 'gray', \n",
    "          'vmin': np.array(results).min(), 'vmax': np.array(results).max()*1.1}\n",
    "\n",
    "def update(idx):\n",
    "    ax.clear()\n",
    "    colors = results[idx]\n",
    "    nx.draw(g, pos, node_color=colors, ax=ax, **kwargs)\n",
    "    ax.set_title(f\"Iter={idx}\", fontsize=20)\n",
    "\n",
    "anim = animation.FuncAnimation(fig, update, frames=len(results), interval=1000, repeat=True)"
   ],
   "outputs": [
    {
     "output_type": "display_data",
     "data": {
      "text/plain": [
       "<Figure size 720x720 with 1 Axes>"
      ],
      "image/png": "[encoded data removed]",
      "image/svg+xml": "<?xml version=\"1.0\" encoding=\"utf-8\" standalone=\"no\"?>\n<!DOCTYPE svg PUBLIC \"-//W3C//DTD SVG 1.1//EN\"\n  \"http://www.w3.org/Graphics/SVG/1.1/DTD/svg11.dtd\">\n<svg height=\"578.477344pt\" version=\"1.1\" viewBox=\"0 0 603.254688 578.477344\" width=\"603.254688pt\" xmlns=\"http://www.w3.org/2000/svg\" xmlns:xlink=\"http://www.w3.org/1999/xlink\">\n <metadata>\n  <rdf:RDF xmlns:cc=\"http://creativecommons.org/ns#\" xmlns:dc=\"http://purl.org/dc/elements/1.1/\" xmlns:rdf=\"http://www.w3.org/1999/02/22-rdf-syntax-ns#\">\n   <cc:Work>\n    <dc:type rdf:resource=\"http://purl.org/dc/dcmitype/StillImage\"/>\n    <dc:date>2021-06-15T01:43:42.444645</dc:date>\n    <dc:format>image/svg+xml</dc:format>\n    <dc:creator>\n     <cc:Agent>\n      <dc:title>Matplotlib v3.4.0, https://matplotlib.org/</dc:title>\n     </cc:Agent>\n    </dc:creator>\n   </cc:Work>\n  </rdf:RDF>\n </metadata>\n <defs>\n  <style type=\"text/css\">*{stroke-linecap:butt;stroke-linejoin:round;}</style>\n </defs>\n <g id=\"figure_1\">\n  <g id=\"patch_1\">\n   <path d=\"M -0 578.477344 \nL 603.254688 578.477344 \nL 603.254688 0 \nL -0 0 \nz\n\" style=\"fill:none;\"/>\n  </g>\n  <g id=\"axes_1\">\n   <g id=\"patch_2\">\n    <path d=\"M 30.103125 554.599219 \nL 588.103125 554.599219 \nL 588.103125 10.999219 \nL 30.103125 10.999219 \nz\n\" style=\"fill:#ffffff;\"/>\n   </g>\n   <g id=\"matplotlib.axis_1\">\n    <g id=\"xtick_1\">\n     <g id=\"line2d_1\">\n      <defs>\n       <path d=\"M 0 0 \nL 0 3.5 \n\" id=\"mee8d54eaec\" style=\"stroke:#000000;stroke-width:0.8;\"/>\n      </defs>\n      <g>\n       <use style=\"stroke:#000000;stroke-width:0.8;\" x=\"30.103125\" xlink:href=\"#mee8d54eaec\" y=\"554.599219\"/>\n      </g>\n     </g>\n     <g id=\"text_1\">\n      <!-- 0.0 -->\n      <g transform=\"translate(22.151563 569.197656)scale(0.1 -0.1)\">\n       <defs>\n        <path d=\"M 2034 4250 \nQ 1547 4250 1301 3770 \nQ 1056 3291 1056 2328 \nQ 1056 1369 1301 889 \nQ 1547 409 2034 409 \nQ 2525 409 2770 889 \nQ 3016 1369 3016 2328 \nQ 3016 3291 2770 3770 \nQ 2525 4250 2034 4250 \nz\nM 2034 4750 \nQ 2819 4750 3233 4129 \nQ 3647 3509 3647 2328 \nQ 3647 1150 3233 529 \nQ 2819 -91 2034 -91 \nQ 1250 -91 836 529 \nQ 422 1150 422 2328 \nQ 422 3509 836 4129 \nQ 1250 4750 2034 4750 \nz\n\" id=\"DejaVuSans-30\" transform=\"scale(0.015625)\"/>\n        <path d=\"M 684 794 \nL 1344 794 \nL 1344 0 \nL 684 0 \nL 684 794 \nz\n\" id=\"DejaVuSans-2e\" transform=\"scale(0.015625)\"/>\n       </defs>\n       <use xlink:href=\"#DejaVuSans-30\"/>\n       <use x=\"63.623047\" xlink:href=\"#DejaVuSans-2e\"/>\n       <use x=\"95.410156\" xlink:href=\"#DejaVuSans-30\"/>\n      </g>\n     </g>\n    </g>\n    <g id=\"xtick_2\">\n     <g id=\"line2d_2\">\n      <g>\n       <use style=\"stroke:#000000;stroke-width:0.8;\" x=\"141.703125\" xlink:href=\"#mee8d54eaec\" y=\"554.599219\"/>\n      </g>\n     </g>\n     <g id=\"text_2\">\n      <!-- 0.2 -->\n      <g transform=\"translate(133.751563 569.197656)scale(0.1 -0.1)\">\n       <defs>\n        <path d=\"M 1228 531 \nL 3431 531 \nL 3431 0 \nL 469 0 \nL 469 531 \nQ 828 903 1448 1529 \nQ 2069 2156 2228 2338 \nQ 2531 2678 2651 2914 \nQ 2772 3150 2772 3378 \nQ 2772 3750 2511 3984 \nQ 2250 4219 1831 4219 \nQ 1534 4219 1204 4116 \nQ 875 4013 500 3803 \nL 500 4441 \nQ 881 4594 1212 4672 \nQ 1544 4750 1819 4750 \nQ 2544 4750 2975 4387 \nQ 3406 4025 3406 3419 \nQ 3406 3131 3298 2873 \nQ 3191 2616 2906 2266 \nQ 2828 2175 2409 1742 \nQ 1991 1309 1228 531 \nz\n\" id=\"DejaVuSans-32\" transform=\"scale(0.015625)\"/>\n       </defs>\n       <use xlink:href=\"#DejaVuSans-30\"/>\n       <use x=\"63.623047\" xlink:href=\"#DejaVuSans-2e\"/>\n       <use x=\"95.410156\" xlink:href=\"#DejaVuSans-32\"/>\n      </g>\n     </g>\n    </g>\n    <g id=\"xtick_3\">\n     <g id=\"line2d_3\">\n      <g>\n       <use style=\"stroke:#000000;stroke-width:0.8;\" x=\"253.303125\" xlink:href=\"#mee8d54eaec\" y=\"554.599219\"/>\n      </g>\n     </g>\n     <g id=\"text_3\">\n      <!-- 0.4 -->\n      <g transform=\"translate(245.351563 569.197656)scale(0.1 -0.1)\">\n       <defs>\n        <path d=\"M 2419 4116 \nL 825 1625 \nL 2419 1625 \nL 2419 4116 \nz\nM 2253 4666 \nL 3047 4666 \nL 3047 1625 \nL 3713 1625 \nL 3713 1100 \nL 3047 1100 \nL 3047 0 \nL 2419 0 \nL 2419 1100 \nL 313 1100 \nL 313 1709 \nL 2253 4666 \nz\n\" id=\"DejaVuSans-34\" transform=\"scale(0.015625)\"/>\n       </defs>\n       <use xlink:href=\"#DejaVuSans-30\"/>\n       <use x=\"63.623047\" xlink:href=\"#DejaVuSans-2e\"/>\n       <use x=\"95.410156\" xlink:href=\"#DejaVuSans-34\"/>\n      </g>\n     </g>\n    </g>\n    <g id=\"xtick_4\">\n     <g id=\"line2d_4\">\n      <g>\n       <use style=\"stroke:#000000;stroke-width:0.8;\" x=\"364.903125\" xlink:href=\"#mee8d54eaec\" y=\"554.599219\"/>\n      </g>\n     </g>\n     <g id=\"text_4\">\n      <!-- 0.6 -->\n      <g transform=\"translate(356.951563 569.197656)scale(0.1 -0.1)\">\n       <defs>\n        <path d=\"M 2113 2584 \nQ 1688 2584 1439 2293 \nQ 1191 2003 1191 1497 \nQ 1191 994 1439 701 \nQ 1688 409 2113 409 \nQ 2538 409 2786 701 \nQ 3034 994 3034 1497 \nQ 3034 2003 2786 2293 \nQ 2538 2584 2113 2584 \nz\nM 3366 4563 \nL 3366 3988 \nQ 3128 4100 2886 4159 \nQ 2644 4219 2406 4219 \nQ 1781 4219 1451 3797 \nQ 1122 3375 1075 2522 \nQ 1259 2794 1537 2939 \nQ 1816 3084 2150 3084 \nQ 2853 3084 3261 2657 \nQ 3669 2231 3669 1497 \nQ 3669 778 3244 343 \nQ 2819 -91 2113 -91 \nQ 1303 -91 875 529 \nQ 447 1150 447 2328 \nQ 447 3434 972 4092 \nQ 1497 4750 2381 4750 \nQ 2619 4750 2861 4703 \nQ 3103 4656 3366 4563 \nz\n\" id=\"DejaVuSans-36\" transform=\"scale(0.015625)\"/>\n       </defs>\n       <use xlink:href=\"#DejaVuSans-30\"/>\n       <use x=\"63.623047\" xlink:href=\"#DejaVuSans-2e\"/>\n       <use x=\"95.410156\" xlink:href=\"#DejaVuSans-36\"/>\n      </g>\n     </g>\n    </g>\n    <g id=\"xtick_5\">\n     <g id=\"line2d_5\">\n      <g>\n       <use style=\"stroke:#000000;stroke-width:0.8;\" x=\"476.503125\" xlink:href=\"#mee8d54eaec\" y=\"554.599219\"/>\n      </g>\n     </g>\n     <g id=\"text_5\">\n      <!-- 0.8 -->\n      <g transform=\"translate(468.551563 569.197656)scale(0.1 -0.1)\">\n       <defs>\n        <path d=\"M 2034 2216 \nQ 1584 2216 1326 1975 \nQ 1069 1734 1069 1313 \nQ 1069 891 1326 650 \nQ 1584 409 2034 409 \nQ 2484 409 2743 651 \nQ 3003 894 3003 1313 \nQ 3003 1734 2745 1975 \nQ 2488 2216 2034 2216 \nz\nM 1403 2484 \nQ 997 2584 770 2862 \nQ 544 3141 544 3541 \nQ 544 4100 942 4425 \nQ 1341 4750 2034 4750 \nQ 2731 4750 3128 4425 \nQ 3525 4100 3525 3541 \nQ 3525 3141 3298 2862 \nQ 3072 2584 2669 2484 \nQ 3125 2378 3379 2068 \nQ 3634 1759 3634 1313 \nQ 3634 634 3220 271 \nQ 2806 -91 2034 -91 \nQ 1263 -91 848 271 \nQ 434 634 434 1313 \nQ 434 1759 690 2068 \nQ 947 2378 1403 2484 \nz\nM 1172 3481 \nQ 1172 3119 1398 2916 \nQ 1625 2713 2034 2713 \nQ 2441 2713 2670 2916 \nQ 2900 3119 2900 3481 \nQ 2900 3844 2670 4047 \nQ 2441 4250 2034 4250 \nQ 1625 4250 1398 4047 \nQ 1172 3844 1172 3481 \nz\n\" id=\"DejaVuSans-38\" transform=\"scale(0.015625)\"/>\n       </defs>\n       <use xlink:href=\"#DejaVuSans-30\"/>\n       <use x=\"63.623047\" xlink:href=\"#DejaVuSans-2e\"/>\n       <use x=\"95.410156\" xlink:href=\"#DejaVuSans-38\"/>\n      </g>\n     </g>\n    </g>\n    <g id=\"xtick_6\">\n     <g id=\"line2d_6\">\n      <g>\n       <use style=\"stroke:#000000;stroke-width:0.8;\" x=\"588.103125\" xlink:href=\"#mee8d54eaec\" y=\"554.599219\"/>\n      </g>\n     </g>\n     <g id=\"text_6\">\n      <!-- 1.0 -->\n      <g transform=\"translate(580.151562 569.197656)scale(0.1 -0.1)\">\n       <defs>\n        <path d=\"M 794 531 \nL 1825 531 \nL 1825 4091 \nL 703 3866 \nL 703 4441 \nL 1819 4666 \nL 2450 4666 \nL 2450 531 \nL 3481 531 \nL 3481 0 \nL 794 0 \nL 794 531 \nz\n\" id=\"DejaVuSans-31\" transform=\"scale(0.015625)\"/>\n       </defs>\n       <use xlink:href=\"#DejaVuSans-31\"/>\n       <use x=\"63.623047\" xlink:href=\"#DejaVuSans-2e\"/>\n       <use x=\"95.410156\" xlink:href=\"#DejaVuSans-30\"/>\n      </g>\n     </g>\n    </g>\n   </g>\n   <g id=\"matplotlib.axis_2\">\n    <g id=\"ytick_1\">\n     <g id=\"line2d_7\">\n      <defs>\n       <path d=\"M 0 0 \nL -3.5 0 \n\" id=\"m9cc98633c2\" style=\"stroke:#000000;stroke-width:0.8;\"/>\n      </defs>\n      <g>\n       <use style=\"stroke:#000000;stroke-width:0.8;\" x=\"30.103125\" xlink:href=\"#m9cc98633c2\" y=\"554.599219\"/>\n      </g>\n     </g>\n     <g id=\"text_7\">\n      <!-- 0.0 -->\n      <g transform=\"translate(7.2 558.398438)scale(0.1 -0.1)\">\n       <use xlink:href=\"#DejaVuSans-30\"/>\n       <use x=\"63.623047\" xlink:href=\"#DejaVuSans-2e\"/>\n       <use x=\"95.410156\" xlink:href=\"#DejaVuSans-30\"/>\n      </g>\n     </g>\n    </g>\n    <g id=\"ytick_2\">\n     <g id=\"line2d_8\">\n      <g>\n       <use style=\"stroke:#000000;stroke-width:0.8;\" x=\"30.103125\" xlink:href=\"#m9cc98633c2\" y=\"445.879219\"/>\n      </g>\n     </g>\n     <g id=\"text_8\">\n      <!-- 0.2 -->\n      <g transform=\"translate(7.2 449.678438)scale(0.1 -0.1)\">\n       <use xlink:href=\"#DejaVuSans-30\"/>\n       <use x=\"63.623047\" xlink:href=\"#DejaVuSans-2e\"/>\n       <use x=\"95.410156\" xlink:href=\"#DejaVuSans-32\"/>\n      </g>\n     </g>\n    </g>\n    <g id=\"ytick_3\">\n     <g id=\"line2d_9\">\n      <g>\n       <use style=\"stroke:#000000;stroke-width:0.8;\" x=\"30.103125\" xlink:href=\"#m9cc98633c2\" y=\"337.159219\"/>\n      </g>\n     </g>\n     <g id=\"text_9\">\n      <!-- 0.4 -->\n      <g transform=\"translate(7.2 340.958438)scale(0.1 -0.1)\">\n       <use xlink:href=\"#DejaVuSans-30\"/>\n       <use x=\"63.623047\" xlink:href=\"#DejaVuSans-2e\"/>\n       <use x=\"95.410156\" xlink:href=\"#DejaVuSans-34\"/>\n      </g>\n     </g>\n    </g>\n    <g id=\"ytick_4\">\n     <g id=\"line2d_10\">\n      <g>\n       <use style=\"stroke:#000000;stroke-width:0.8;\" x=\"30.103125\" xlink:href=\"#m9cc98633c2\" y=\"228.439219\"/>\n      </g>\n     </g>\n     <g id=\"text_10\">\n      <!-- 0.6 -->\n      <g transform=\"translate(7.2 232.238437)scale(0.1 -0.1)\">\n       <use xlink:href=\"#DejaVuSans-30\"/>\n       <use x=\"63.623047\" xlink:href=\"#DejaVuSans-2e\"/>\n       <use x=\"95.410156\" xlink:href=\"#DejaVuSans-36\"/>\n      </g>\n     </g>\n    </g>\n    <g id=\"ytick_5\">\n     <g id=\"line2d_11\">\n      <g>\n       <use style=\"stroke:#000000;stroke-width:0.8;\" x=\"30.103125\" xlink:href=\"#m9cc98633c2\" y=\"119.719219\"/>\n      </g>\n     </g>\n     <g id=\"text_11\">\n      <!-- 0.8 -->\n      <g transform=\"translate(7.2 123.518438)scale(0.1 -0.1)\">\n       <use xlink:href=\"#DejaVuSans-30\"/>\n       <use x=\"63.623047\" xlink:href=\"#DejaVuSans-2e\"/>\n       <use x=\"95.410156\" xlink:href=\"#DejaVuSans-38\"/>\n      </g>\n     </g>\n    </g>\n    <g id=\"ytick_6\">\n     <g id=\"line2d_12\">\n      <g>\n       <use style=\"stroke:#000000;stroke-width:0.8;\" x=\"30.103125\" xlink:href=\"#m9cc98633c2\" y=\"10.999219\"/>\n      </g>\n     </g>\n     <g id=\"text_12\">\n      <!-- 1.0 -->\n      <g transform=\"translate(7.2 14.798438)scale(0.1 -0.1)\">\n       <use xlink:href=\"#DejaVuSans-31\"/>\n       <use x=\"63.623047\" xlink:href=\"#DejaVuSans-2e\"/>\n       <use x=\"95.410156\" xlink:href=\"#DejaVuSans-30\"/>\n      </g>\n     </g>\n    </g>\n   </g>\n   <g id=\"patch_3\">\n    <path d=\"M 30.103125 554.599219 \nL 30.103125 10.999219 \n\" style=\"fill:none;stroke:#000000;stroke-linecap:square;stroke-linejoin:miter;stroke-width:0.8;\"/>\n   </g>\n   <g id=\"patch_4\">\n    <path d=\"M 588.103125 554.599219 \nL 588.103125 10.999219 \n\" style=\"fill:none;stroke:#000000;stroke-linecap:square;stroke-linejoin:miter;stroke-width:0.8;\"/>\n   </g>\n   <g id=\"patch_5\">\n    <path d=\"M 30.103125 554.599219 \nL 588.103125 554.599219 \n\" style=\"fill:none;stroke:#000000;stroke-linecap:square;stroke-linejoin:miter;stroke-width:0.8;\"/>\n   </g>\n   <g id=\"patch_6\">\n    <path d=\"M 30.103125 10.999219 \nL 588.103125 10.999219 \n\" style=\"fill:none;stroke:#000000;stroke-linecap:square;stroke-linejoin:miter;stroke-width:0.8;\"/>\n   </g>\n  </g>\n </g>\n</svg>\n"
     },
     "metadata": {
      "needs_background": "light"
     }
    }
   ],
   "metadata": {}
  },
  {
   "cell_type": "code",
   "execution_count": 21,
   "source": [
    "anim.save(\n",
    "    'water_drop.mp4', \n",
    "    dpi=600, bitrate=-1,\n",
    "    savefig_kwargs={'transparent': True, 'facecolor': 'none'},\n",
    ")"
   ],
   "outputs": [],
   "metadata": {}
  },
  {
   "cell_type": "code",
   "execution_count": 22,
   "source": [
    "HTML(anim.to_html5_video())"
   ],
   "outputs": [
    {
     "output_type": "execute_result",
     "data": {
      "text/plain": [
       "<IPython.core.display.HTML object>"
      ],
      "text/html": [
       "<video width=\"720\" height=\"720\" controls autoplay loop>\n",
       "  <source type=\"video/mp4\" src=\"data:video/mp4;base64,AAAAHGZ0eXBNNFYgAAACAGlzb21pc28yYXZjMQAAAAhmcmVlAAA09G1kYXQAAAKuBgX//6rcRem9\n",
       "5tlIt5Ys2CDZI+7veDI2NCAtIGNvcmUgMTUyIHIyODU0IGU5YTU5MDMgLSBILjI2NC9NUEVHLTQg\n",
       "QVZDIGNvZGVjIC0gQ29weWxlZnQgMjAwMy0yMDE3IC0gaHR0cDovL3d3dy52aWRlb2xhbi5vcmcv\n",
       "eDI2NC5odG1sIC0gb3B0aW9uczogY2FiYWM9MSByZWY9MyBkZWJsb2NrPTE6MDowIGFuYWx5c2U9\n",
       "MHgzOjB4MTEzIG1lPWhleCBzdWJtZT03IHBzeT0xIHBzeV9yZD0xLjAwOjAuMDAgbWl4ZWRfcmVm\n",
       "PTEgbWVfcmFuZ2U9MTYgY2hyb21hX21lPTEgdHJlbGxpcz0xIDh4OGRjdD0xIGNxbT0wIGRlYWR6\n",
       "b25lPTIxLDExIGZhc3RfcHNraXA9MSBjaHJvbWFfcXBfb2Zmc2V0PS0yIHRocmVhZHM9MjIgbG9v\n",
       "a2FoZWFkX3RocmVhZHM9MyBzbGljZWRfdGhyZWFkcz0wIG5yPTAgZGVjaW1hdGU9MSBpbnRlcmxh\n",
       "Y2VkPTAgYmx1cmF5X2NvbXBhdD0wIGNvbnN0cmFpbmVkX2ludHJhPTAgYmZyYW1lcz0zIGJfcHly\n",
       "YW1pZD0yIGJfYWRhcHQ9MSBiX2JpYXM9MCBkaXJlY3Q9MSB3ZWlnaHRiPTEgb3Blbl9nb3A9MCB3\n",
       "ZWlnaHRwPTIga2V5aW50PTI1MCBrZXlpbnRfbWluPTEgc2NlbmVjdXQ9NDAgaW50cmFfcmVmcmVz\n",
       "aD0wIHJjX2xvb2thaGVhZD00MCByYz1jcmYgbWJ0cmVlPTEgY3JmPTIzLjAgcWNvbXA9MC42MCBx\n",
       "cG1pbj0wIHFwbWF4PTY5IHFwc3RlcD00IGlwX3JhdGlvPTEuNDAgYXE9MToxLjAwAIAAABYwZYiE\n",
       "ABf//vfUt8yy7VNvtguo96KeJl9DdSUBm5bE7TqAAAADAAADAAADAOlUgmN87gDRjLQAAAMAU8AK\n",
       "mBcrEtS0visG8ABCXTVA6I7rmYVUvrSSVHT7c5YAJAOs/cKU6lohp2aZ/y9viUlap9iLPyRPgeAe\n",
       "TqsXxtt+IKo8abO6gm8D+eqtRxYoYTCwQtOltGQ42ujobqviY3lpmSaGFviaB45QmadNXOnN8E7x\n",
       "GoWWUOOzCiK1SXLUNnLotDY2w535ZdGKst2yDHGIdGdVc4DFPgzZSMLTsjOPMNtkB1V8nDKM7v1Q\n",
       "DdXg3nDe6hs3zJFmAOB3mAg7Gkf+RmD0hj0TB59EkRO7QKy0qTUF+VKaYdMGe6Atqvd63uD2Dul4\n",
       "qCyUXk/MiFpQji8dXQAbOpegbsT1nMfinD8e5RZZMNPERYw7lhUO2InbOi5LzNcAUhnAea5x3ipg\n",
       "S/ByPqbhi4oHQmtuBR1xxo5XLXMSZ8oQFsUrHQin2ERAZzre6oZx5gVbjFMPAFLQSg9xfqWtPr7y\n",
       "gSso3e/ArWDzrWBBSOdp3RATaDBjWq5hNraOeHU93Se/z+tXrIZ4JRraBvRrDfwV8u2bIPpLZtLt\n",
       "FBAGABMTnPKkUtfEsRqFV2Gj0oYU7KzNq98pvDTRIsGiKYvybUK0VGoCJH+c6B1UK3s2PkEFBhED\n",
       "zLju/Hfm45XKiOQkAL1ey5tvTUWGHchMNJhMPQ1vsZi4ZvjO+3zjsTwtFH/vRVY2nlWJkZ6l56Sw\n",
       "BHU0g6+7trmg7WzzW1iJzMBZi8N12BIh86xGJ2fQjZZU+X3/9e/wFgVnZ85Y2ATLIeeat18p2rfb\n",
       "mlXquHQzLW4rn8PcI7bFz4fhb8ljwzZ1bXA/wYn8jXdjCdr26iIVfOz9FuylSwj8engQhcj/GB1Z\n",
       "rkUGNG3Df3lX15foDOr6c80uIr1hND/YmUGwbEpEVDSYpK8C6EdAlSaWN/e9dz3v2+c11b++fwjO\n",
       "wvxXRC7G+gHbkLeeIafvJo9fCAnFMyAXTsgLwZYjGOLbqT55waElkgFOEr7p25hc6Oq1K6cIqntb\n",
       "7VYdMOTUPmuuuj51lEI1DsCThgphKgGNNWwMFw0q3T1PGDqHqjoFLiYn2eQRUbcfX3nq/q1D8I9j\n",
       "5sbJ99f7k2tQK2lY+Zkxq5jhgktuubRuprhiVpdUCEXkAdY6SnfGZAACRKu7oEPe+8p7+9VYHd9/\n",
       "QQPwCCFrzpSr/Nbc3SvcgLNp3+jtvBNGe0ZwWZqCiEHrCld+rrndDlbUu83EAm7ttQbZrFGjFTQE\n",
       "ooJBCBjGx4VmDdCkqdzznfjztDz/WdN8mF9SrjbJcmQxYNtrfr5u/aWnKWqqIZ5DUP7GPExk+p4s\n",
       "eb6FZsR7i/qHrugt9fb0QnVwnTDuveSNrL4xxscecLkCOeaNtLdfipJdIQmIO62nVgBKux1tI/e8\n",
       "UMvA7HiiL5n/J8wFYAMEZ7vvjua7fGi+DByRfhIbhyB2JW4Hf/4q7cWQ7S/TVh/YEsMbhJ3mSjuh\n",
       "XvcsTB+Ll9AGVA8LLMHXXtWn6PmmP1Co4dvm8URPbyri6RWJckzNnrv9PtZjXLq6XHohNHiZ6d+I\n",
       "3PYAIqImanZlN4met89Ck0wuw4TlPP5+0hNtVvBqBryfhnVDTPzgPETCylQfZtM5cSZKEiaa0r/h\n",
       "eXZBsITasF2QQxS7c0FCaoUQPQ3jTbyjSYomEZB/7nWYm/bF9noI2933YAuALMQT2gnaTidKPu6e\n",
       "rNbj1uekjYNGhquAGsrO6GAx3b12I7BQ2QwTTYTDYGneG1YQmbo38nfspsOoghdoJT5QsNsIjMUe\n",
       "vry7Axgssat57IFCkznUDe0zJFKqcCwnqgXgQkGio5//MIcoiIxwnWx5Xhe35l2sKK1sU/AAYPCw\n",
       "vZJ5COmzbEuzMxNS9//z7HOiF3ZvlwodNk68ILE80yF10D2XLhcM9nDGaJgovfUYekFkCvvFDhEn\n",
       "NEkbKjr6M71yufUS7E8wV/EzgKvg9k8q4fTuK0KfgyHc9BXcw7Z/fD5V/RKHX/jl/CpndHEQBG+l\n",
       "3VgBWAy3a4yN6+r7GHnY8kM30r9SWPHDMpq3sAKAbUjcSnxUgt2vWqSyUKfRaMEUvmGr+LbEtaNt\n",
       "nRe79ilYCDLoPAlPY/1Oihigs4TiN5Ws78pgM8jzR7OLoEw458hgevBTt6zyJ5Cc5ek58KARyzaj\n",
       "m0IBvR2rzUyIJ3QPVp9lDB1AGvQw6TSQnbruqdTCOrBPaN5fR89gRcbTZ5MLIKteB1CImZ6uaxtR\n",
       "jqZ8V3NxIxetu0RysKFA2krwbTQEL7AN2Nw9Tn7YY8wzUuXr3XG4xxi/JOXh18s4h3aq81PMZWY5\n",
       "3V+7853LDht/VWxbbFMpPtW1n1EpRb1Bmp47fBCC7qOu2+RUdq2EckFTJj4/qEZbu27yt/RQJiAt\n",
       "XANp6eRjq6ax1rnp7TJcuxbWB2KNuuFnzx7/S8AMzYo0nT8SsWudyPhJclCIC44Uf2Ajuc9/VzRd\n",
       "IhAjuhZ0B2uhW8MW3MB9SQCyC0dcfmmpQ5uUqhpO6R26yBIAcc1nKpxcZVmKj4drmLIyu+N/2XIx\n",
       "2vpnFhhK+7SlORqZHcw77TsUcc+9cFir4Zj8NhjQhM/59sZaxo2DZFC5JLqZJhENUOTpoLdcmz1z\n",
       "FLgEQ/DLTX/eD9+JJmfUEJtMZ+Nnyc2CbpQ6vdnxBBpiG2ZXQbjxynAS1lp+9WswjyD79Y4N7Ngw\n",
       "E/ap8LP5DIHgMO8j3JM80jC/sw5JcBnpgjvhX1HUGIaun6y51ccXt3cWQ8rOCweEloXTzedxddm0\n",
       "2mctqRgV8BRUo4cM9WPSsIZFoJeOzTdjexB2YoH5oLomgaRIH0VSXJVhhYKl3dZgxTKjXqmijMO8\n",
       "E+5IEhdaMaIA5nrztvd6XTNz1iXRDWlNiWrSZBPUY+OVcAtSfVzQMKpNFH6+n5pYVcrUbCGJvd46\n",
       "Xew+QxMoiXMzruAM5c0sBc6SYiYejPfjz+Nv4CH/FCqSJycOgvhBhmj0ANF9GthLhkR7wc8oPg4a\n",
       "Yx80gWe0Bqtn5JIX6cHtwP7mV+xMxsVZQa8s1WkOTm9SFHoO5mIWDyA5cikcK6L7bOUx7CNCLgxY\n",
       "GUiYbpC+D+TOUm1bKudpdrH+h3nkoACOgbYI+VyTA/9Nr4+tPGO4Tkl2pRiOdeDunXB0VSEVtaBG\n",
       "Gzc9uDlmgpt1Nek0joX77ASlHu8LyV/Q1ETnsAIFr/ljruldOAC59NRVpWfDwKNJwOAtgulTZpUw\n",
       "hhDTtQ33qt1BaciWh3W5DlfOLEFWeIuwcTOjsQQmsk3X3X/B4wL5deyHNTaJ9b2m5lH51U2MBrpp\n",
       "6WTGfl+xss3AhrtCEdwd9uqvUdR4JkCVj9yB46l8atPU6voKsUfn0fvwPZ4Tk3M0Zsr0/yj11hXz\n",
       "axUAAGwH7ZH10NVol+s7w6BrfQ4uPQ+ScRkbMJgJn49K7RV5y7brrhiahwwZT9yg1vVA/izxUxTM\n",
       "vx7tRDb1sEjlJP5F0mJ/hXWqGiMay6R669KxCtw1KVmRgu3KlngucrKE7K4xRBLWYTAdV1PdBPe6\n",
       "4c9so2/Gkyd/YuuLbGvGFeEHQQ6IXlNV0Us4SjOEvn4Q8SHq3GMHOihqxeEWlaC08SdWfkHXBAx4\n",
       "1zsHUDnmpgk988PuY29krEhsfpU0jwsI1ELi+0ZX24EVMBu1nwfgB8x5Q3VO8eMgZ2MRxw/F4YM6\n",
       "sYGQo8bieujrBXg06JlOW+oWvvRAzVUiT2QCGmBvbOf1/16Wvu3eRPyfmyg0LdhWL2TEXqk6pkg8\n",
       "5fEplwNJKugS4tZADIEjCrBr7SI9Z5OYt/XAJwjAXkxTjgxdd+NT34s/GNjpht2TDuiHd/9lP81R\n",
       "KaAXLWPq0PqN59EW7o68Jo8LxJX498Q1HkBqLIB0EG7C3P9pxoKYiwwb3OqKIV/oAcSe3dCmXTRd\n",
       "+i7rPtxuKRYQnz6+jbqEEsYcm3t0NU/pLi0l9LCAHoHNTTzbgbzKh7gjnStgGiAT04+GTUokcQQy\n",
       "ZgL4Tnf5bziFGl1LGon9hrOWXRVkZJsmGWExNxrwAhjyoDMHYLv2TC3Cd3m3RV8CMGswmBdJg8p3\n",
       "pLK+QpjMwj7u5HHMy3HO/JAjKV5nEG/v1hUuLu1fh+IdluftiQNhcbjF16AlXStCmXQkqRtSmjKq\n",
       "nmWzuFCrvd5jIaveYFSOOzAg1F7pARqaLFnZ4+uYnXQY2B2BeqIRySnyqQWqEfYJBqLNVoXDAHvI\n",
       "sRufzh6iPih8rxg+IyMAxA9GpKoDnMNGBxX3Ob0lL7Hv6kkRclyJnd5tFYaSPEYKxw45gpycfkOZ\n",
       "pDW4Aq2FSVgVZZSfTPqpdH3sIIVvs9wslMibABITqJmQ6wjD0BTt62OJd9qev/X9BqIRmxOQVjvS\n",
       "WTou8Gc2VbYoXSy3s11Jo6YPinngWIl7XZLnW/OFBgERt9fb5L5fnwCwypfTnuRtqMaayy5nzkDP\n",
       "sbMciMkTpbra4tA3c7IAH5qd2UHXkepFqobIfLEge2lX11/Lc7hs85xi7IyhabShmIjxmecAVsU3\n",
       "wvkg3L2jB3XYC5k8Q4K/nn+WU6rVhhnmj4j+P7Wv294y2EbL9HwJfsB8GA6hxUvGO8sUXq5sH3EP\n",
       "oYTgYSZvmiweMjm0dw07mrrdOsjprGhAQGb1MQQ2T2hhY7gy55tXad05/E5+PDGGLNUhGtvVHu6t\n",
       "tGIBbWR1Et0EYU85r9JQMyvd5bJ7o5dTm13oPSA3BjApo/AwwNk9OTYv2I9xI4sWvfcmbMZ2hqs2\n",
       "/+6idKN2AFkYnSPE2JV39APXYIIXfnIB5kNJF+CKuRquKnwJiaVLUJy6ROMmAm/lVlbpLmJaS5CN\n",
       "qgVAclAxBE+4WvtkUjmKm3uCGeg10vmd0MCxjMIrwVQioz23RrNWsuvO9ROxW3kKnbBXLxAzzjwz\n",
       "+J4ujntJ30tjE0BnjDMn+n/QiDfbws0YHMbazsoI7RC1nBXmQ1gnGrMzLtUVEqQhGoQOMJobDa2C\n",
       "gJr934idzQf/uuAE/4msQXX5/KwpCxLYgQVLhx8cM0f7rUReERlVtUzN4AqxhUhRAyZ4nR2ULDav\n",
       "7r5XCsn4rQSP1RNRpwcvcC9Q+jR8yLb2EEFBU+IhLkHNZDgc279Wy+xa8uZ0ZXtGY4UXtzr1L5Qa\n",
       "PJhE3G7KaSaP5uIzyyU3HH079uKUgfvzuCAS7JGP8p9Bm72gTVLabaRlMliQVX1IimRfnsDhU0SK\n",
       "78M80DayMJMbyaiYyvQBGYF0OBLi2F7FPOjyP2UbEl8WXagjECZ8t4v5I8eE7IoggrXMkKXhyjJN\n",
       "5j/il9OqFPquNhuylLmc/EW4/a5ZaLv4fD27QThhpJqA9scDziDcE4ecMdlD9iX3O+rbwlMyOKhS\n",
       "vtT4x2Deg/lbfVsyHW1QgrX5HzBBsyoZ6XO1xi1kaIWSdWZ3+fc90cKfJIUgKI6rSGv/uB+14qNs\n",
       "PxvYY+jZkXH6HjXLmSxWDYmN6Yl6iS+hzlaI/lcwfADw2jYPZ1oWqEdGQ32QnLMlhFnb0mh4p6Nh\n",
       "Myqo5+0v7GYG1niuN1K5WvqlhXPFCaa8k9KixzI4cgrtUO3+ICliX3NAR2PPGA6dNVUwtsn7fljH\n",
       "KxqvNIRqoEY2DkSXzcaFBMIJ/QyqhpJ9lMary6ljTbLbP+cwFnyvM0qv5WrkxfXA4gABSrVdF/lQ\n",
       "uUMiUcNDrD/wuTCLhcSpAaTxWeJUIbpTzRzEvl1Fc6TyKW3+O1oky9ctaiBxSwt2dxSJvKFjrXlB\n",
       "hbA0Cn36ObnbhRXMPnhvmgStOum9f0ZqAuLx7Yppgih1DQhDDkGy7LCWMS+By0s+zfYUUtywFoSd\n",
       "bKhq4WzSfa470z8wMdtqVk+NrgrvzooDwqhiUR+h/C2EkAoduERBy9omXKdbVycqewwcwmAjPPvv\n",
       "J5xPM1iDoI3aIvfoGyOSafcx96IdWLxVZk3xgeYtjAMLJsYQhVvST7OFPdAB8RD3dwW334RQHe28\n",
       "Wk1AtuttoC7PCrLxDc3+/Iu6Cr5d7vD+z6YbhjREVp2xq1UaspoWlc0OUF4V8SqACghgtrBDn/Ug\n",
       "nBGUQ6d/muKcwCupXKW9+dD8S6oypbs1VvTb0gvB1B7T9HnuTG9E/SV9sjXiPeolnzCOvBhFRVqB\n",
       "V8tk7kda2DuMJFQFGqwm+1IeZv2sZAeR9koqWtLrQ0udOZFcVnwwL9BgHzwzK5ggJSsnV5exzzzB\n",
       "o/WKhoGotWfUztcTefY6NdORDWvILMrRiqQrNWXVjyikv4FzFKAQHygpudCoMhz+FWiRKV4oDoIf\n",
       "uOIl/kb7ZIIXqIap8ZaQGSAqOY9MJoKtuab/Mo/8hlS2FMjjYpSeA1BMvhL74hDJ9B5F35gOHhYh\n",
       "Ug4CdXsAemM7GZ4E0H4J+whfvdgdHf+iDzrhYbdNuNNP2cbxjSEY/0EAO3wPoah4Z1Kl81XBdrZl\n",
       "kP/dU3MEru/aNe4fVKStTAQbiDA8E82rzp5hW2r/4FFvWb5HtaZyufDU41HBP4Fx83w78tvCk37M\n",
       "Gg4e1K2qjSGuWAfjgTj3TYjlcqanTOcNqEJlrJV0p8QjywiStTfQxgcBEXdmXfDy2S3MnKttGmst\n",
       "0x9bwuWndn0i6iLUbIOiW8eCxFIP9ibWFm0LoH6o00wKsNRxeOiDdV9XENobvZEt7z1vkuNBFHoz\n",
       "Sm/IoRMdkeenyYG0RsbdeRzYyosy2Fx7smnS4wX4qRh8zD49lRCntxYFebzxIZ2IbO2BVHZEMIgl\n",
       "cmWbip6WIFX/yOn3/rAnuz4EQsL5gfU31heCmi486s7tvGHugDdGoAZ7+K4YprS7Fg1vVB9v3cwd\n",
       "aT6LzWcwiQAsbnyl8Rn0FPPehf/lgsEj51j2mXAXT09+FeVpYJm9z09XHrcgCjrykO785EcV2/IC\n",
       "jWiKyXCmdr+gTFUsMyFElJLlkfwoEyTNwNl+flBNimBw9Xj6RanbdRLpnlk/oJnlQBwWKaKyGB6p\n",
       "wBnITUtpx+0b/aWOu6qbEmRvm5qzp4geLUPA6lWqU+POehzZfUFXnWl45zW3N5ac9tEbe6MJs7Vz\n",
       "sNQo6RZ/lgX6TzGGymVeaoepBHTBvcWkyoq7FLX7gBOgneP/ZNp9q0TroJfvPWTc60k8cRf2ZBxp\n",
       "Zjbk4XX5uh59MC5qLvTbmjH1MIMKWEsWwWuuQYXjW07u1ZBrTrNGZ+ACnzOiJqtYka+CxA7jkXpp\n",
       "bH1QQgAKjYLz9xAwgN4oSkYwGu2Hk5bqQ+PonWqDAgq0UutA3dNBBksc/kwTI4Q/UxHHrV5Unfpd\n",
       "wEuX7+NOoc2xiZot1kmKVxijfW7Vs6Q8Bh43e9MsQ5II0ytss6vBEDrKFOB7Lxz7ve11AGvGFlfy\n",
       "XVYeQExhvsF/ZyLV+YJaWzlbn/9J18G2pAyTOoh8EAr4lPbVGQ+nBqFtXx1pUIpzNQpYW23KOfae\n",
       "nybipsFhA8BCtW6NXCGZDqfH7bGtXBQrS7UQYOEohUJs1fiLE0ZSBLCly+eQtzzVboTUz2RwCGY9\n",
       "Bflo2UyoUFwUDiCkU5mkk37zkYRa4AAAAwAAAwAAAwACHwAACEhBmiJsQX/+2qZYABZTAxgAchUU\n",
       "oW9oi5z/sdJDu/uYP+AiQewJop/BMFFzASYEA1wvhm7TsiGuH65ZSaII3mBLJlXU1vOsDWTCApQB\n",
       "dMbbHW/oTTsD6yVOq1253q8rE0X/mVkUMo/cLj3NKWkYpw7GTuoTQSVkRt9x+fgmL5tLgmRiajNt\n",
       "IyLms/6oenTiIkCs+9joq3O/cTbQbNU1GFRct98kPgfujoDIhX5E5UOGPjXO6jnATiGBur2ArV3u\n",
       "5JW2NBWQEKydA5g4ou037o3G+BODfjfeFiYSLg1wv01XbPkpBfdsTlFpD4X8m+4Jg57PByXTFtR/\n",
       "lITW36jC7np3mAnTJjmdxgIj4JGxBBXYOPyl/+at8cQyBmP5Tkf87M++e9s4vjnqBYgJqEbUY1B3\n",
       "//bhvYHhi5yqIQvciVDVT5Rq1tqyX9hjYeEo3hJa1wes9Y0QBXDh4F67/qbRhdEJBnqZcVnDHbuB\n",
       "Tvsg2ZaZJrsU3XWTS3j7Wl4Lab4zTZj4FgfnXc/PqrwDaLgCxP0Um2v38HPVbOGEXtn7Te1y/aBG\n",
       "pcPOYsmxEi35F/fq1jwT3J5I03k2R6iJsyLlkMN7RswonlkRlgg59phNj+IpUpCyO06BHsM2Jh1h\n",
       "jL1NASBFMn2jcEyLoadNTArUVAMO/KQ4SKeCFVRtCcIg1BENiEybOdOz41+uOWazYSBKdERYzMW4\n",
       "RPH4Y03KkuWTypXg/TwL1kqQQBA6dj8VOCxmCKcOVnjDRR8bth/xIFJ29N1Gsjre/uJEVfXcn5F6\n",
       "sY/jKITgbKKVyB8kEXJU5cHm0CTSaDVrRW166vbW5E6ziT/VARZIUWTaeOROZ8ysduV9RzNQSfaQ\n",
       "KKgPAXV3e7DjolDBdjp+PMcEaujm8RgixuyECbzxpFcsFP/LrxPiUT0OsdcOpyiV7vVpv/NDGxAz\n",
       "KVPsh+c7pps9sIyCy0LqhTFgApxHsWhfEv/cF1gEQoheI3Cqai3xaOtu3R7RsOpxdv1ZQRTxEAEe\n",
       "u7bO7Igrvx2uYOfzXLmsnfUwQIzq4++n/X4DECXBuYQAhqEH4DDLw1B2kAskd+2bHQ/uDQPK8Pkx\n",
       "DS8JNgl73Bp45Oo7/r+bsgUQOExczmmJzmqyMVMB4ENbcjdWTXMcNtSwc2OyhLFxsNtWcKXxRIql\n",
       "RYc8xhwX3HpIL29SOe9yDS/gCxkrzWtZZCYh3st+i/E7CEh23M95VoQUNW4z1Ds3GE1+E9JdcvX6\n",
       "ph6EjEHrfxTfil3kO8j2CwEACbiPauU5nn9vC2OeoGvlS2K1C2a+NUVe7EObDQOS7/wGXOstuFLE\n",
       "xIAEC4c/zXKuoBuILa6UU+Vo7kyafg6iFChIug3K+HRAcYVuDPzZxHKjY5MYYeAUEGpB0X6Mg9GD\n",
       "tF8rv3hGCHd5FqTKqKvE4We5jAZX+S9nqKXLKdPodF7cY17VLK6Bv0JAw0S0owApcx0JI71KTeyd\n",
       "Yca3KyUsAtVaZsBdwry0eAvKhaqPp9CZnRN8oZ9w1u3MqnjjkhIoHgrOy2iQHFbp+HEPOxnFIvEz\n",
       "or5+dk8HXdzFuYga20MeoOb4klzY/T99kIK4yVeLapMK/Cj5UDlqU2rxHKplDI4x7pra5p/UG7rw\n",
       "zSAmCbqX2wkSHOv9HMnWVVrHSLsMWwN5qtDqaPMSqGAUzuMyjqOlyNcT7uQWObvPpCIGm8LF6FcC\n",
       "+Kn0bzkjje8QpyOhkdqamR7e+rO7v8S6LxmZAd+6bhA+YIfp16eJSKubvg/th+so/KbVqY0kfRdq\n",
       "RRAyVtdz912jXaThdBMHT4PHol0fqM3X0lBDIxkV+BH+mKOJPprSPbvb3xTjfDb7eKfQT2RSsTeH\n",
       "xcFAcdvMU75AITuBMzpkNsNHayQca3JuwhAjwcUHLPbp/bGNUBJY5ecO4ddbbs04ZeMNfy42qFZq\n",
       "Ikv3a3OHZpZY3YTWYQ1dLUN33uPgY7OqOgHn/tkbS+3lK0nw2kFYCSAHuVsU5Y8lmS2pg1FgiiQl\n",
       "2kX8M/udJKvKyZsEWm3JMYzAwpF4hN8oV7RjksmUQa3kXL9R9rq+Dlq1DinbsVzm1F5ZhFjZ1zmH\n",
       "65nEr45EYswyAB59AqckgC/VdD7w095AR5ySWHG7rPLek2lk7XNFHWpPzyhEymDBMi+ymuMbM+NB\n",
       "3A8c0OwD1kNDNt/thD2AjPsFpgWlLvBt5YqPW8I/QaYyog+inl46iZIm8O9dS4OXq5pJpI1C5wAx\n",
       "Hmr7E6ovKV2deZxMtxjCnXjNkxfDxmOGn/4gHakbCExBdb/iy3XeMY1SJQYATe9h5af+1tXVLhe5\n",
       "UYreyFM2otvD3UEbOJWxfiqcJlLeAATfz32ILwvSDy6H1LGbbPv9qbcNsWCFpVq460Mhjgm2PZmb\n",
       "nYMIEPx0SiCDPbi2iUVQL+y0Mw6fS3VN32Dl3TqlwM0jE63alGxDhjHt5WvClRaxdXyLrvoMkst3\n",
       "+Mr/2VBTyaFle42LL7apV5LnkhU40UZskbq0/ucmlJmbt+wjdpH+EVnZy/2EqFakAdsv2oeCTuZU\n",
       "4cNZS7IvcdUkcJNst4Eza8UsGZUBVPvPDXJ1XQ5T9pNTEksT8CYtkYTXIFcroUOAa+bjbbnrR9t3\n",
       "lGUz4SM3bZlSsdYbwbKZFZQV5KkHd7URtSdc3vYcgtfnLae3ARLiSjRxekoLWNAhd4C0Yjw58B2G\n",
       "jYCLGvYLNP8lTFg06NGCref3M1sug/1fpmqI29y5LV6cn7whOsvPE20oz7SaAenmSBsSGwO4IuQb\n",
       "ugP65FEIdcH0WrooCfyG4ciRoV32KYOEGoTEAW10Ko6WcsC2R/BNVGCEech0O5gSsAAAAo0BnkF5\n",
       "BX8AAA7NFd2YRTEyfMRjPIwAcdXgLzCKGBepP83CF481pOwF1Z/Q0sHfSSrtqhG3oFYho7nEFd63\n",
       "7yV7kJbb5QJIleQ5Skw6lzEu6bdBMUOPe/in6HNxnfnVTZBpW6YtijKrAcZ/3XTE661yZNqKy/0w\n",
       "mb0Nml93xABalSGS5GEAyc4poDeAAAGQbJl6pXXOk9r412re0fqVCIvN0vNCW/zqp/X7i1SSGY/v\n",
       "581mtzOlzDZDRgBBrLmAI/GPfPyaDPiutHk28RYpN07/UZTxEpKfLg9GyqNVaACKs27CxZxTf4m4\n",
       "hb53ddOxTVi1+rJ/BvmTGhgaVQRywR+tqLVyvoyTMjZVbJHznF+63A0dtcVKW1P3UqY2qGUT6zcZ\n",
       "VD9TUB1ULkPRnxZQb5LxzFMVBsFwtniPuAA7kE6Xph7F4pJdZmQ+t50YM1MFJM2y5KWBF2lkDTV5\n",
       "1ji5CgpyLrIcWxMvR8t5yOFMBbgp2maZaNjYV6zgWIWf0AvPNbyecceih1nkza8//4gbcFLlO0lh\n",
       "iggC8g6plQoq0nTkbqDlcQpgwQzXTTTVmau58iX6SCncXNgPOosysQFsDaMZVhEXFt3kseFxf+Uf\n",
       "LP3/ZIwBXE2wQKaJ0AMDpFGZo61EwpVk3TY0VjPQSanEh0jZ9muLJJJH1psp71uECuTe1lfehd74\n",
       "fXjHb+9LzllXyxGWQDtQuXsPbysaAG1EPS0slcgf23t8t3q9Apg7lnpImwVJYM1GDqmM4YiRkj5Y\n",
       "xYV8wmiB3CScXj5vZ38U55nfZltxH8WtLB/U0HV6xN1/Q6Hw7bhqK7UP2CNF/8NoQ94qrUgHEvT8\n",
       "boz+tEdzwcbiiAjhkXtboEGZXkJELQAABzhBmkU8IZMphBf//tqmWAAVwAJSpHVW0AAC95+eVTf4\n",
       "+9E+wJ0eudCUwDL6ci+tbo9ULe+CVsPPgDPMo5mwyXpNMCBObqqKvG4MLUIrPHM3Buz9pHzqLLk0\n",
       "i64LG51NgUIA87GWd0MSZcikAPQYklXCIL7ndhnmetnW1dZ/FmMIym5+H6IIq+4vwRsYswZ0GtAV\n",
       "PuCuNv/kf9c17Hm0+PHJZWrGWVvKGkrD8H/jQl4PbhGZ9f58urim5XcS0D3yJpx2QuWAN1HA/nRS\n",
       "VqrkwiXrAIXKh7OS6wHWhOHKIsMBx19WYkfbksKaWh2DLzb6gywt1JVvlscQ25mkn46fJWVQX3T+\n",
       "VRRekh5rsJtqQ10rBakJvoleKP8z9sapt3+n8BLEGfxhUpf4ZPFiO511VMIH5vhqb4QDNZ/Ce+HT\n",
       "yULqRWatBYeKAmGyrATthv7VX1QYm6XewiFIHkfO5HkJq7XMg1xjmJx4YaDVj6+cm5rSqhU6wxdy\n",
       "Ckd6wJkZDl5TYtBf7kQoRK4b6T7P3VYVvV46bwT7+BBwhC5bsBNf2f0OwALvFlLDnkUovSsc1/t6\n",
       "INHUp68C1ktJ/9uxpKuOD6TY+5KXuO73UVOssEiZ2ZXCuXFQY6FDV8Ul0qXRo14GXnX+hisSkFdn\n",
       "6V/KecnMO22dapCs1rAa5uCgZ17/5lCfSd6kJKtkd4seq5cjhjsfWjcRcjIDweVGma6YRwDx0Il8\n",
       "PFyDo3ZXmTCxWk7aN/rIjY5r/R3JrN8PrZwauKQsHs86LA2lPvUa/8DGaMgcmhnOsC8/eCcPOjyk\n",
       "ToJilPhFkdqNxSqSK3Owk9PEBLe7kwwnNytu8n+C1er1EhJdjh5F0xwn8Sq0Jq+QtrAYqsHHBapb\n",
       "DtFChUIGOV8U1yGIKm1NuRzsc6rlWt1eZ1nJkbLpWKFIpGzmJiAiQUF1cvmYcVzJtGV+DrjT+WHS\n",
       "mUCvE7taaGPxYU6fiMPwPUPAmoDdGOVfGr5RqHfCpwLM/3DmIK7pqiujbgcvDaqLs8+sWlA6hz2j\n",
       "2rTGi9XnaVAVQoyc/8ABXziQJXmaCxQecHoHLT6YKp6EQQS4OqA+cwOFXi/HmqFrA54bqGzvxJY9\n",
       "d2v2SkhmhQWw7G58TcCKrqdMra4a4nmIM7naFgdYS/a/8/y+BwTMw/doX0zgY5Qw+5ufS9fhoVm0\n",
       "siCs9qM1XTKO8ceYaDQhOYo44BbzkGtpWmNaSelSonsIq3QzI1dAP1xk1KSdV41Od4yd3j6i1sLe\n",
       "C1j5jVuaDaeKB3lm9V7EtzqCufYiBbVLjXMeo5+Fz8MCXucljcZw9dfhqriYl2F2xtntf8Z/m7t9\n",
       "xAO5YsTDCoAb20c7x2kLHozDkiD0bc/BvThgL2b4E8Ligg3thzi05ekFvrPHW7lw/nlprnBOV+qS\n",
       "Hsrkw4AIZWsI1cA0nkAakQp+NujjEmMYqvIiXY0ubHE/PFdEALbU+M4BjyOkA2PEMh38fzz6yy10\n",
       "oBxKAFXgMrZF9lTac2hkpBJ5xf1e4qSR9rZ3JAzRuCvy+vvbcBc80Syp40rY3wWjNH4vf+IqtVM9\n",
       "hirLATapJwCvib6pORW/LMsNjrh4dLL8mE9dOd3f2FmYSrIBM3bgKDRgdWAfEgWOdO7orcix5C0+\n",
       "0swHPQ4y7RcffeD+sX84OIZGDnywTHVmSnd6dzOAKPg5oViQscbcgbPIGPOLdlcItrAVBiZorj17\n",
       "tWPW/Poc9VR2e6pi/iaiKRGbuN8npkctj4QKpVO71bmAPW3VWcocKZoR3nzg8d2q9mI4qkJeDiJB\n",
       "uwg8Vwcoz7tacc/C6VZGTeKOodzYeCgW/X28/zrnu1RPVaWP2up/f5roVb01WzHZG1GGU7EoBKER\n",
       "ABem0i2pgA1HF0nw8edbEkWAZ4KlJ4IzpZ9YiBaYu99aQ1UslRzQu8lSyE2LRzOJgZB5jkERhQ5Z\n",
       "P1/x5DRqWypXcIJHQ29Z1jo35bUbRWmHrjhoFzsn9KAIZf14wmMeY51WkZzyuSUfR1P4YzGYKslT\n",
       "8XLuICl/nO0hgOrqrEAm9fkpcUYPH3ixGxZTxmR+q5hKTco/7jl2Vroa9fYd9pzXGo0hAJ04tKnB\n",
       "8yte6+FzA0zfbgylIRoUvITiJUsTjQSwuhQ9yWkUVy0OPCgdghQK3OI0sS4fH/AR+kBgDtvdmEHd\n",
       "WzvckezVcmwdVyncvMK23kZvSdDaz06qxqQ9V4mcAMIKaryl268uxK41mJFQ72PAhUqJsXI+f/iF\n",
       "YwlRCuY1XmsDdjxsfBqqlYqzbIMxhtzZNA7weouru9pwnvPVk1lchHghcIXzbaJ+a34INpLzvOit\n",
       "7RiHCuQ+W5l6WxAUEklV2GFQeAmz9GwuV+Mf7AYbfKLWfg3ePIjkS2HpX2pfDlVsMefU8zxyf5tM\n",
       "ZMDfhcA8oY3bb4V5x3+831B0P2i06XJ/TdbzUuWKYrmTFt9xK1epOTNdLg9Or+uAB8wAAADwQZ5j\n",
       "alPBXwAADk8IfZwQrQAIdBFYckcdpGJZg31dI0xZPP/gchHHvSL3V65z0b0/2xOypgnA27sz63gO\n",
       "qyEJUfT5gUHHefIHL7LP8SxSyoxNrRlhf0pSrnQIM95SybkzHlfgbxinGb9ajRLCTNBYvt46gPwv\n",
       "KgAtKfPMiiYCfZ/EEsmR1R7kQC924GyBlrGgLmnIh/dZMy3Nn4HIszY5HMtAQ/+7G/GNcKPTgBQW\n",
       "WGsrZJj1cEk8f/xRT+j8nWuKCm4pFYiO+/xKK3zPMkWvi7xgvKNwmgyzBpLEnh+ExW9fJ8J/syhk\n",
       "6lelhnu/gBvRAAAA7QGehGpBXwAADlpNEkllJeJqeoAObdB3yf2UFtOMj3JP3XYVjnabQG6cUxGY\n",
       "EB4iobxVKu9Y9h6UQ2NZBKVWJT+6uUmXejFq1K1acOrv8cLrlLJTdt2jwb2kKKey9NB0oChbXOnE\n",
       "KbgTT0IYlLE77esryn+7QVO4A29XZz3cNdmD1oOlxpBV291/sKFsReiH84DSoobFUSYNDiT7TPen\n",
       "b9j24mxIA1GQi39KReAAe4rgF1gXnl9U2aEz7lAUGY3MR2BJFipuoDLe5oLvvjHV/8nbO2D1TnwP\n",
       "jnqd7s3QzMtJGnvrHzaNOmXQ5KAuIQAAA/RBmolJqEFomUwILf/+1qVQABXV1kAAA6913hFLvCeo\n",
       "1M/uVYwlH4TAdRJILnUM7w4AJ/RZugIcLOe0Twk37zvPVKJTjBKVqIiTkop3BX3pzEY7bvkSdlbS\n",
       "vJdyx50RW8GarXXWtwJbf0v+KDKj2xRRx5TKdUzwKIIIVVByZrgM33ZazF5/dgwpV+7Wmix33f7D\n",
       "PEim6o3jT2kwqLMe7Weg/mv3nlx037VbwL7PB1oVPfrG9TRJ1BPv8pejPxT0o1R4JgaQQaeF5+ew\n",
       "SwVXor0d/+TLZx93lrXtK64DngHwbQCASTRkPe/NnsuNpQCzUTdpihxyMz962u/09V2hgTiAyI95\n",
       "ZojCgL6DKNOcZx2bCUS7BA4WUOl+0/7znWCz1kOkUlifNOiYeVxFIAs3s7pxjOBI4WC7vD37+9KW\n",
       "35YS6tHA5sBKiJJEi+7c+fT36BBoamKD/icW4bnx89/ll+CWFUSJwLlP33vRATFkpJncNuJDdiKT\n",
       "VYNIT7qooFeLorocAfh/VO9kdpH/leLyITSVsQjy6YAGGAy52XzX/x7r/cGjnJmmvYvvtPA3d/1Y\n",
       "kBOvrDtjWDlFKPKXgLr1Yfag3OT8QHU/AFOT0VxPwhIvSVL5yVI+qEF1PeinjMgf3qx7Bi5YCkIe\n",
       "xeKZBRMe3wdA8nfCzczNdtNFcGBvmK9D8dwZrAR9jG0+LYAFv4A2ji5NLhFKfPYBTk9+zeKCT4L4\n",
       "UE8dsDevSBcca1yIO0NRNl33irhXToYnF9E8XjgySyuNlG04NJy8Ztb7v+UGQM6AnKjRwAME9hbC\n",
       "s+qhNUZGd2pBUmX+Y2IjeWL4W/mrOlnnGQQ2Swhm4X8MdfcUqh8BdfDrAmzuJJCsAi5rX5Es0gkM\n",
       "57QRLV5WTMYK5n3ffTkfBaINetUsNB5ZHuthjtl/hr0hb+NDCEYTp4q/O+ictcmm5fm2XS+OR6Jz\n",
       "+u5MwqoAYiUi4EnoMOHANC4aSDqIWHYDNW1e+u0KmnlvqdeMhcYLsQZ6k43vzn4G6D64zoWF2Vto\n",
       "wvlVggzMKZGcPcyAyuHMb5X0SPkm4FEhklKaIWWLz6nkVrs7d4HlBxo6kLwGPXTK+F1MXRY306Ig\n",
       "jMYzRJHpGfcF0i+IvxLG9PpweBNMYWLds43qRpUk8Pb4x3PoTA5HZ/qiEwq4iXreIFDHOhpU5VyL\n",
       "NeIb8qncRp7+t+2u15pq2qi2SURc4Yqbl6KnyhBzaEsKiaIHe1amjGLR58G3vfmuRH/4+izxzyfV\n",
       "Uhngvmr1d2MqWmQqRypqLBIt0hwP/ubfaKfx4E2NuFg5IZBWEhLsgO1raB9ZWRVS/z48w8gctKwH\n",
       "RRZacB84CmzJAPmBAAAA5kGep0URLBb/AAAJS4hbT9caHh+D9AAp6/MoJdsYDuAL434qmPg6HYfq\n",
       "JqtkpW7ZzNLnQJNI+7ij4FH+uF3pf0G9/zZk7WF5e9ZOjDmLzJJd/qk6nRZSJa9hY8UcdV+m5wRD\n",
       "ll/ImEKyirWwLRIjtYEloIch9XTvrx5xbGeckzAFQkX8S436Awv5AXiJQdpejE6GT/FpuCiQyjjl\n",
       "uvLgAF9L1I9LeN/uBe/NjpeiSHvdSD/5Q4VWiw8TaFzX7zxv2+dzTPKe4n/TxvPLNyj2gzxXkBK6\n",
       "uETcSwCOFURJollbrcGe/kKnAAAAxwGexnRBXwAADmYAa4YADr2qkdQoQlrHzCgpP4P7YsNu7ovW\n",
       "A8j7OAeVcVEW5Zk+K5/74IFwkYaRXWOkduR5etntSoQv57Uc+XSdVFvP/oLjWeSK2wl7/rxt+vKD\n",
       "x3kVnO0wk5h2jBZg4qmlgpgbW9wR9cnqNcRIQIhz9JwbFEPk/lY7w+PmkJ/Ace3F0IQAhjquiix7\n",
       "EEAEsR/Iv/CRUzIJqqgVx9vAea3rYxZ1poXPWbgZLqBNZnr9d9wfg61PuJt1h96AImAAAADVAZ7I\n",
       "akFfAAAOSJljilqq29kAB0ttP7ed7Nr61iHuXOS5xg8hBdZg7FfdPQyeJ8sr4eQ6T4sk1PWyocHi\n",
       "Tfi4pMu3hwjXKb4yLm5JMkmP2+gGDdwySipkM7+4viKcJTUbWhAE36PosFjeKLW0uwmIbFTCaF/4\n",
       "H6tIeTkyiV6qAu4dX8fBDB3wqoAKUsMMtmzCgya+dRcPf/hmOO95CK6iAJfCXOe+vMJMRVnAas8v\n",
       "uduM4P5izrTQtcpol//DLWZ1asRUrJ/rcqVz1VYumvRt7kHzAAl4AAABfkGaykmoQWyZTAgr//7W\n",
       "pVAAGA2IJ1iWijX8S+EirACEWNoA/oqzBowBY5jnUai3oTDdpvzTcBODG2/p5fJrWPn+is+TQkHs\n",
       "DP8e5NYLftyxCtjLDtYzK8891oiZ7K9QVdXmlldXwjN9jSihBFR9dleg43cagd9WnX9U0uuEKbWE\n",
       "8rHZJhPxN+86cFOAY7XO5zGtDEs6rRVoGtoUk09aMECLtd39LIxJY78EaNfxWMRX9ztcrtZf2Lmc\n",
       "FhvGnlWi/4fIeHrtO/rZrRuA5B268Lcy233R0HafZ1cSN+AHLsUA0fbrQHzFZH4aRXx1fRFiaZ3f\n",
       "C5+p62v8r6+ISjDqbLZNdpXOcdRS+ve/nz905LBCloTPvssyEGr3D7jMk2otk1Z1ZgU0FZ4RlMAQ\n",
       "yZw2lNjJmcYYN4GWjEiheAwyGentjS2KQUB/Nb5qhvDNmMs8X7nEPsbcCtU1fsKg6bb6+1jBmCHF\n",
       "tA7zBQFVaKk4whP0nYR+p5FysNZPXe2bA2cAAAOrbW9vdgAAAGxtdmhkAAAAAAAAAAAAAAAAAAAD\n",
       "6AAAKvgAAQAAAQAAAAAAAAAAAAAAAAEAAAAAAAAAAAAAAAAAAAABAAAAAAAAAAAAAAAAAABAAAAA\n",
       "AAAAAAAAAAAAAAAAAAAAAAAAAAAAAAAAAAAAAgAAAtV0cmFrAAAAXHRraGQAAAADAAAAAAAAAAAA\n",
       "AAABAAAAAAAAKvgAAAAAAAAAAAAAAAAAAAAAAAEAAAAAAAAAAAAAAAAAAAABAAAAAAAAAAAAAAAA\n",
       "AABAAAAAAtAAAALQAAAAAAAkZWR0cwAAABxlbHN0AAAAAAAAAAEAACr4AACAAAABAAAAAAJNbWRp\n",
       "YQAAACBtZGhkAAAAAAAAAAAAAAAAAABAAAACwABVxAAAAAAALWhkbHIAAAAAAAAAAHZpZGUAAAAA\n",
       "AAAAAAAAAABWaWRlb0hhbmRsZXIAAAAB+G1pbmYAAAAUdm1oZAAAAAEAAAAAAAAAAAAAACRkaW5m\n",
       "AAAAHGRyZWYAAAAAAAAAAQAAAAx1cmwgAAAAAQAAAbhzdGJsAAAAtHN0c2QAAAAAAAAAAQAAAKRh\n",
       "dmMxAAAAAAAAAAEAAAAAAAAAAAAAAAAAAAAAAtAC0ABIAAAASAAAAAAAAAABAAAAAAAAAAAAAAAA\n",
       "AAAAAAAAAAAAAAAAAAAAAAAAAAAAGP//AAAAMmF2Y0MBZAAf/+EAGWdkAB+s2UC0FuhAAAADAEAA\n",
       "AAMAg8YMZYABAAZo6+PLIsAAAAAcdXVpZGtoQPJfJE/FujmlG88DI/MAAAAAAAAAGHN0dHMAAAAA\n",
       "AAAAAQAAAAsAAEAAAAAAFHN0c3MAAAAAAAAAAQAAAAEAAABgY3R0cwAAAAAAAAAKAAAAAQAAgAAA\n",
       "AAABAADAAAAAAAEAAEAAAAAAAQABAAAAAAACAABAAAAAAAEAAUAAAAAAAQAAgAAAAAABAAAAAAAA\n",
       "AAEAAEAAAAAAAQAAgAAAAAAcc3RzYwAAAAAAAAABAAAAAQAAAAsAAAABAAAAQHN0c3oAAAAAAAAA\n",
       "AAAAAAsAABjmAAAITAAAApEAAAc8AAAA9AAAAPEAAAP4AAAA6gAAAMsAAADZAAABggAAABRzdGNv\n",
       "AAAAAAAAAAEAAAAsAAAAYnVkdGEAAABabWV0YQAAAAAAAAAhaGRscgAAAAAAAAAAbWRpcmFwcGwA\n",
       "AAAAAAAAAAAAAAAtaWxzdAAAACWpdG9vAAAAHWRhdGEAAAABAAAAAExhdmY1Ny44My4xMDA=\n",
       "\">\n",
       "  Your browser does not support the video tag.\n",
       "</video>"
      ]
     },
     "metadata": {},
     "execution_count": 22
    }
   ],
   "metadata": {}
  },
  {
   "cell_type": "code",
   "execution_count": null,
   "source": [],
   "outputs": [],
   "metadata": {}
  }
 ]
}