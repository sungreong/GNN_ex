{
 "cells": [
  {
   "cell_type": "markdown",
   "source": [
    "# Graph Classification with Graph Neural Networks\n",
    "\n",
    "* raph classification refers to the problem of classifiying entire graphs\n",
    "\n",
    "* TASK\n",
    "    * molecular property prediction\n",
    "    * molecules 는 그래표로 표현됨. \n",
    "    * task는 분자가 HIV 바이러스 복제를 억제하는지 여부를 추론하는 것일 수 있습니다.\n",
    "\n",
    "* dataset\n",
    "    * [TUDatasets](https://chrsmrrs.github.io/datasets/)"
   ],
   "metadata": {}
  },
  {
   "cell_type": "code",
   "execution_count": 1,
   "source": [
    "import torch\n",
    "from torch_geometric.datasets import TUDataset\n",
    "\n",
    "dataset = TUDataset(root='data/TUDataset', name='MUTAG')\n",
    "\n",
    "print()\n",
    "print(f'Dataset: {dataset}:')\n",
    "print('====================')\n",
    "print(f'Number of graphs: {len(dataset)}')\n",
    "print(f'Number of features: {dataset.num_features}')\n",
    "print(f'Number of classes: {dataset.num_classes}')\n",
    "\n",
    "data = dataset[0]  # Get the first graph object.\n",
    "\n",
    "print()\n",
    "print(data)\n",
    "print('=============================================================')\n",
    "\n",
    "# Gather some statistics about the first graph.\n",
    "print(f'Number of nodes: {data.num_nodes}')\n",
    "print(f'Number of edges: {data.num_edges}')\n",
    "print(f'Average node degree: {data.num_edges / data.num_nodes:.2f}')\n",
    "print(f'Contains isolated nodes: {data.contains_isolated_nodes()}')\n",
    "print(f'Contains self-loops: {data.contains_self_loops()}')\n",
    "print(f'Is undirected: {data.is_undirected()}')"
   ],
   "outputs": [
    {
     "output_type": "stream",
     "name": "stdout",
     "text": [
      "Downloading https://www.chrsmrrs.com/graphkerneldatasets/MUTAG.zip\n",
      "Extracting data/TUDataset/MUTAG/MUTAG.zip\n",
      "Processing...\n",
      "Done!\n",
      "\n",
      "Dataset: MUTAG(188):\n",
      "====================\n",
      "Number of graphs: 188\n",
      "Number of features: 7\n",
      "Number of classes: 2\n",
      "\n",
      "Data(edge_attr=[38, 4], edge_index=[2, 38], x=[17, 7], y=[1])\n",
      "=============================================================\n",
      "Number of nodes: 17\n",
      "Number of edges: 38\n",
      "Average node degree: 2.24\n",
      "Contains isolated nodes: False\n",
      "Contains self-loops: False\n",
      "Is undirected: True\n"
     ]
    }
   ],
   "metadata": {}
  },
  {
   "cell_type": "markdown",
   "source": [
    "* 특징\n",
    "    * 188개의 그래프를 가짐\n",
    "    * 각각의 그래프를 이진 분류하는 것이 문제임\n",
    "    * node features (7)\n",
    "    * edge features (38)\n",
    "    * 추가 4차원 가장자리 기능(edge_attr=[38, 4])을 제공합니다. 그러나 단순함을 위해 이러한 항목을 사용하지 않습니다.\n"
   ],
   "metadata": {}
  },
  {
   "cell_type": "code",
   "execution_count": 2,
   "source": [
    "torch.manual_seed(12345)\n",
    "dataset = dataset.shuffle()\n",
    "\n",
    "train_dataset = dataset[:150]\n",
    "test_dataset = dataset[150:]\n",
    "\n",
    "print(f'Number of training graphs: {len(train_dataset)}')\n",
    "print(f'Number of test graphs: {len(test_dataset)}')"
   ],
   "outputs": [
    {
     "output_type": "stream",
     "name": "stdout",
     "text": [
      "Number of training graphs: 150\n",
      "Number of test graphs: 38\n"
     ]
    }
   ],
   "metadata": {}
  },
  {
   "cell_type": "code",
   "execution_count": null,
   "source": [],
   "outputs": [],
   "metadata": {}
  },
  {
   "cell_type": "markdown",
   "source": [
    "# Mini-batching of graphs\n",
    "\n",
    "* 그래프 분류에서 그래프들은 보통 작기 때문에, 좋은 아이디어는 완전한 GPU 효율을 보장하기 위해서 gnn을 인풋에 넣기 전에 그래프를 배치로 만드는 것이다.\n",
    "* 이미지 또는 언어 영역에서 이 절차는 일반적으로 각 예제를 동일한 크기의 모양 세트로 다시 조정하거나 패딩하여 달성되며, 그런 다음 예제는 추가 차원으로 그룹화됩니다.\n",
    "    * 차원의 길이는 미니 배치로 그룹화된 수와 같으며 batch_size라고 한다\n",
    "* 그러나 GNN의 경우 위에서 설명한 두 가지 접근 방식이 실현 가능하지 않거나 불필요한 메모리 소비가 많이 발생할 수 있습니다.\n",
    "    * 따라서 PyTorch Geometric는 여러 예제에서 병렬화를 달성하기 위해 다른 접근 방식을 선택합니다.\n",
    "    * 여기에서 인접 행렬은 대각선 방식으로 쌓이고(여러 개의 격리된 하위 그래프를 보유하는 거대한 그래프 생성) 노드 및 대상 기능은 단순히 노드 차원에서 연결됩니다.\n",
    "        * 즉 edge를 연결시키지 않는다.\n",
    "    * 배치에 따라서 길이가 달라지지 않을까라는 의심\n",
    "    * \n"
   ],
   "metadata": {}
  },
  {
   "cell_type": "code",
   "execution_count": 3,
   "source": [
    "from torch_geometric.data import DataLoader\n",
    "\n",
    "train_loader = DataLoader(train_dataset, batch_size=64, shuffle=True)\n",
    "test_loader = DataLoader(test_dataset, batch_size=64, shuffle=False)\n",
    "\n",
    "for step, data in enumerate(train_loader):\n",
    "    print(f'Step {step + 1}:')\n",
    "    print('=======')\n",
    "    print(f'Number of graphs in the current batch: {data.num_graphs}')\n",
    "    print(data)\n",
    "    print()"
   ],
   "outputs": [
    {
     "output_type": "stream",
     "name": "stdout",
     "text": [
      "Step 1:\n",
      "=======\n",
      "Number of graphs in the current batch: 64\n",
      "Batch(batch=[1185], edge_attr=[2624, 4], edge_index=[2, 2624], ptr=[65], x=[1185, 7], y=[64])\n",
      "\n",
      "Step 2:\n",
      "=======\n",
      "Number of graphs in the current batch: 64\n",
      "Batch(batch=[1146], edge_attr=[2538, 4], edge_index=[2, 2538], ptr=[65], x=[1146, 7], y=[64])\n",
      "\n",
      "Step 3:\n",
      "=======\n",
      "Number of graphs in the current batch: 22\n",
      "Batch(batch=[383], edge_attr=[832, 4], edge_index=[2, 832], ptr=[23], x=[383, 7], y=[22])\n",
      "\n"
     ]
    }
   ],
   "metadata": {}
  },
  {
   "cell_type": "markdown",
   "source": [
    "Here, we opt for a `batch_size` of 64, leading to 3 (randomly shuffled) mini-batches, containing all $2 \\cdot 64+22 = 150$ graphs.\n",
    "\n",
    "Furthermore, each `Batch` object is equipped with a **`batch` vector**, which maps each node to its respective graph in the batch:\n",
    "\n",
    "$$\n",
    "\\textrm{batch} = [ 0, \\ldots, 0, 1, \\ldots, 1, 2, \\ldots ]\n",
    "$$"
   ],
   "metadata": {}
  },
  {
   "cell_type": "markdown",
   "source": [
    "# GNN\n",
    "\n",
    "1. Embed each node by performing multiple rounds of message passing\n",
    "2. Aggregate node embeddings into a unified graph embedding (readout layer)\n",
    "3. Train a final classifier on the graph embedding\n",
    "\n",
    "There exists multiple readout layers in literature, but the most common one is to simply take the average of node embeddings:\n",
    "\n",
    "$$\n",
    "\\mathbf{x}_{\\mathcal{G}} = \\frac{1}{|\\mathcal{V}|} \\sum_{v \\in \\mathcal{V}} \\mathcal{x}^{(L)}_v\n",
    "$$\n",
    "\n",
    "-> global_mean_ppol이라고 있음\n",
    "    * 미니 배치에 있는 모든 노드의 노드 임베딩과 할당 벡터 배치를 받아 배치의 각 그래프에 대해 [batch_size, hidden_channels] 크기의 그래프 임베딩을 계산합니다.\n",
    "* GNN을 그래프 분류 작업에 적용하기 위한 최종 아키텍처는 다음과 같으며 완전한 종단 간 교육을 허용합니다.\n"
   ],
   "metadata": {}
  },
  {
   "cell_type": "code",
   "execution_count": 4,
   "source": [
    "from torch.nn import Linear\n",
    "import torch.nn.functional as F\n",
    "from torch_geometric.nn import GCNConv\n",
    "from torch_geometric.nn import global_mean_pool\n",
    "\n",
    "\n",
    "class GCN(torch.nn.Module):\n",
    "    def __init__(self, hidden_channels):\n",
    "        super(GCN, self).__init__()\n",
    "        torch.manual_seed(12345)\n",
    "        self.conv1 = GCNConv(dataset.num_node_features, hidden_channels)\n",
    "        self.conv2 = GCNConv(hidden_channels, hidden_channels)\n",
    "        self.conv3 = GCNConv(hidden_channels, hidden_channels)\n",
    "        self.lin = Linear(hidden_channels, dataset.num_classes)\n",
    "\n",
    "    def forward(self, x, edge_index, batch):\n",
    "        # 1. Obtain node embeddings \n",
    "        x = self.conv1(x, edge_index)\n",
    "        x = x.relu()\n",
    "        x = self.conv2(x, edge_index)\n",
    "        x = x.relu()\n",
    "        x = self.conv3(x, edge_index)\n",
    "\n",
    "        # 2. Readout layer\n",
    "        x = global_mean_pool(x, batch)  # [batch_size, hidden_channels]\n",
    "\n",
    "        # 3. Apply a final classifier\n",
    "        x = F.dropout(x, p=0.5, training=self.training)\n",
    "        x = self.lin(x)\n",
    "        \n",
    "        return x\n",
    "\n",
    "model = GCN(hidden_channels=64)\n",
    "print(model)"
   ],
   "outputs": [
    {
     "output_type": "stream",
     "name": "stdout",
     "text": [
      "GCN(\n",
      "  (conv1): GCNConv(7, 64)\n",
      "  (conv2): GCNConv(64, 64)\n",
      "  (conv3): GCNConv(64, 64)\n",
      "  (lin): Linear(in_features=64, out_features=2, bias=True)\n",
      ")\n"
     ]
    }
   ],
   "metadata": {}
  },
  {
   "cell_type": "code",
   "execution_count": 6,
   "source": [
    "model = GCN(hidden_channels=64)\n",
    "optimizer = torch.optim.Adam(model.parameters(), lr=0.01)\n",
    "criterion = torch.nn.CrossEntropyLoss()\n",
    "\n",
    "def train():\n",
    "    model.train()\n",
    "\n",
    "    for data in train_loader:  # Iterate in batches over the training dataset.\n",
    "         out = model(data.x, data.edge_index, data.batch)  # Perform a single forward pass.\n",
    "         loss = criterion(out, data.y)  # Compute the loss.\n",
    "         loss.backward()  # Derive gradients.\n",
    "         optimizer.step()  # Update parameters based on gradients.\n",
    "         optimizer.zero_grad()  # Clear gradients.\n",
    "\n",
    "def test(loader):\n",
    "     model.eval()\n",
    "\n",
    "     correct = 0\n",
    "     for data in loader:  # Iterate in batches over the training/test dataset.\n",
    "         out = model(data.x, data.edge_index, data.batch)  \n",
    "         pred = out.argmax(dim=1)  # Use the class with highest probability.\n",
    "         correct += int((pred == data.y).sum())  # Check against ground-truth labels.\n",
    "     return correct / len(loader.dataset)  # Derive ratio of correct predictions.\n",
    "\n",
    "class Printer():\n",
    "    \"\"\"Print things to stdout on one line dynamically\"\"\"\n",
    "    def __init__(self,num_period=10):\n",
    "        self.num_period = num_period\n",
    "        self.init_value = 0\n",
    "\n",
    "    def __call__(self,data) :\n",
    "        if self.init_value % self.num_period == 0 :\n",
    "            print('\\n'+data.__str__())\n",
    "            self.init_value = 1\n",
    "        else :\n",
    "            sys.stdout.write(\"\\r\\x1b[K\"+data.__str__())\n",
    "            sys.stdout.flush()\n",
    "            self.init_value += 1 \n",
    "\n",
    "printf = Printer(num_period=50)\n",
    "\n",
    "for epoch in range(1, 201):\n",
    "    train()\n",
    "    train_acc = test(train_loader)\n",
    "    test_acc = test(test_loader)\n",
    "    printf(f'Epoch: {epoch:03d}, Train Acc: {train_acc:.4f}, Test Acc: {test_acc:.4f}')"
   ],
   "outputs": [
    {
     "output_type": "stream",
     "name": "stdout",
     "text": [
      "\n",
      "Epoch: 001, Train Acc: 0.6467, Test Acc: 0.7368\n",
      "\u001b[KEpoch: 050, Train Acc: 0.7600, Test Acc: 0.7632\n",
      "Epoch: 051, Train Acc: 0.7667, Test Acc: 0.7632\n",
      "\u001b[KEpoch: 100, Train Acc: 0.7667, Test Acc: 0.7368\n",
      "Epoch: 101, Train Acc: 0.7667, Test Acc: 0.7632\n",
      "\u001b[KEpoch: 150, Train Acc: 0.8133, Test Acc: 0.7105\n",
      "Epoch: 151, Train Acc: 0.8133, Test Acc: 0.7105\n",
      "\u001b[KEpoch: 200, Train Acc: 0.8467, Test Acc: 0.7368"
     ]
    }
   ],
   "metadata": {}
  },
  {
   "cell_type": "markdown",
   "source": [
    "# 대략 모델의 결과는 76%이다"
   ],
   "metadata": {}
  },
  {
   "cell_type": "markdown",
   "source": [
    "\n",
    "An alternative formulation ([Morris et al. (2018)](https://arxiv.org/abs/1810.02244)) omits neighborhood normalization completely and adds a simple skip-connection to the GNN layer in order to preserve central node information\n",
    "\n",
    "$$\n",
    "\\mathbf{x}_v^{(\\ell+1)} = \\mathbf{W}^{(\\ell + 1)}_1 \\mathbf{x}_v^{(\\ell)} + \\mathbf{W}^{(\\ell + 1)}_2 \\sum_{w \\in \\mathcal{N}(v)} \\mathbf{x}_w^{(\\ell)}\n",
    "$$\n",
    "\n"
   ],
   "metadata": {}
  },
  {
   "cell_type": "code",
   "execution_count": 10,
   "source": [
    "from torch_geometric.nn import GraphConv\n",
    "class GNN(torch.nn.Module):\n",
    "    def __init__(self, hidden_channels):\n",
    "        super(GNN, self).__init__()\n",
    "        torch.manual_seed(12345)\n",
    "        self.conv1 = GraphConv(dataset.num_node_features, hidden_channels)\n",
    "        self.conv2 = GraphConv(hidden_channels, hidden_channels)\n",
    "        self.conv3 = GraphConv(hidden_channels, hidden_channels)\n",
    "        self.lin = Linear(hidden_channels, dataset.num_classes)\n",
    "\n",
    "    def forward(self, x, edge_index, batch):\n",
    "        x = self.conv1(x, edge_index)\n",
    "        x = x.relu()\n",
    "        x = self.conv2(x, edge_index)\n",
    "        x = x.relu()\n",
    "        x = self.conv3(x, edge_index)\n",
    "\n",
    "        x = global_mean_pool(x, batch)\n",
    "\n",
    "        x = F.dropout(x, p=0.5, training=self.training)\n",
    "        x = self.lin(x)\n",
    "        \n",
    "        return x\n",
    "\n",
    "model = GNN(hidden_channels=64)\n",
    "print(model)"
   ],
   "outputs": [
    {
     "output_type": "stream",
     "name": "stdout",
     "text": [
      "GNN(\n",
      "  (conv1): GraphConv(7, 64)\n",
      "  (conv2): GraphConv(64, 64)\n",
      "  (conv3): GraphConv(64, 64)\n",
      "  (lin): Linear(in_features=64, out_features=2, bias=True)\n",
      ")\n"
     ]
    }
   ],
   "metadata": {}
  },
  {
   "cell_type": "code",
   "execution_count": 12,
   "source": [
    "model = GNN(hidden_channels=64)\n",
    "print(model)\n",
    "optimizer = torch.optim.Adam(model.parameters(), lr=0.01)\n",
    "\n",
    "for epoch in range(1, 201):\n",
    "    train()\n",
    "    train_acc = test(train_loader)\n",
    "    test_acc = test(test_loader)\n",
    "    printf(f'Epoch: {epoch:03d}, Train Acc: {train_acc:.4f}, Test Acc: {test_acc:.4f}')"
   ],
   "outputs": [
    {
     "output_type": "stream",
     "name": "stdout",
     "text": [
      "GNN(\n",
      "  (conv1): GraphConv(7, 64)\n",
      "  (conv2): GraphConv(64, 64)\n",
      "  (conv3): GraphConv(64, 64)\n",
      "  (lin): Linear(in_features=64, out_features=2, bias=True)\n",
      ")\n",
      "\n",
      "Epoch: 001, Train Acc: 0.3533, Test Acc: 0.2632\n",
      "\u001b[KEpoch: 050, Train Acc: 0.9200, Test Acc: 0.8158\n",
      "Epoch: 051, Train Acc: 0.9133, Test Acc: 0.7895\n",
      "\u001b[KEpoch: 100, Train Acc: 0.9467, Test Acc: 0.8684\n",
      "Epoch: 101, Train Acc: 0.9333, Test Acc: 0.8158\n",
      "\u001b[KEpoch: 150, Train Acc: 0.9533, Test Acc: 0.8158\n",
      "Epoch: 151, Train Acc: 0.9467, Test Acc: 0.8158\n",
      "\u001b[KEpoch: 200, Train Acc: 0.9200, Test Acc: 0.8158"
     ]
    }
   ],
   "metadata": {}
  },
  {
   "cell_type": "code",
   "execution_count": null,
   "source": [
    "test()"
   ],
   "outputs": [],
   "metadata": {}
  },
  {
   "cell_type": "markdown",
   "source": [
    "# 결론\n",
    "\n",
    "*  You have learned how graphs can be batched together for better GPU utilization, and how to apply readout layers for obtaining graph embeddings rather than node embeddings."
   ],
   "metadata": {}
  },
  {
   "cell_type": "markdown",
   "source": [],
   "metadata": {}
  }
 ],
 "metadata": {
  "orig_nbformat": 4,
  "language_info": {
   "name": "python"
  }
 },
 "nbformat": 4,
 "nbformat_minor": 2
}